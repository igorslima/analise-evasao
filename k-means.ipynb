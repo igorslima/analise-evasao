{
 "cells": [
  {
   "cell_type": "code",
   "execution_count": 1,
   "metadata": {
    "collapsed": true
   },
   "outputs": [],
   "source": [
    "from sklearn.cluster import KMeans\n",
    "import numpy as np\n",
    "import pandas as pd\n",
    "import nbimporter"
   ]
  },
  {
   "cell_type": "code",
   "execution_count": 2,
   "metadata": {},
   "outputs": [
    {
     "name": "stdout",
     "output_type": "stream",
     "text": [
      "Importing Jupyter notebook from preprocessamento.ipynb\n"
     ]
    }
   ],
   "source": [
    "from preprocessamento import preprocessar"
   ]
  },
  {
   "cell_type": "code",
   "execution_count": 3,
   "metadata": {
    "collapsed": true
   },
   "outputs": [],
   "source": [
    "data_2016 = pd.read_csv('respostas_2016.csv')"
   ]
  },
  {
   "cell_type": "code",
   "execution_count": 4,
   "metadata": {
    "collapsed": true
   },
   "outputs": [],
   "source": [
    "dados_2016 = preprocessar(data_2016)"
   ]
  },
  {
   "cell_type": "code",
   "execution_count": 23,
   "metadata": {
    "collapsed": true
   },
   "outputs": [],
   "source": [
    "#data_2016 = dados_2016.drop('situacao', 1)"
   ]
  },
  {
   "cell_type": "markdown",
   "metadata": {},
   "source": [
    "- entender o kmeans\n",
    "    - A implementação do scikit utiliza pontos randômicos\n",
    "- entender medidas de distâncias\n",
    "    - o kmeans na implementação do sci-kit usa o Lloyd’s algorithm que por sua vez usa distância euclidiana, \n",
    "- avaliação do cluster e da quantidade de cluster\n",
    "- pensar em uma visualicao para os clusteres\n",
    "http://scikit-learn.org/stable/auto_examples/cluster/plot_kmeans_silhouette_analysis.html#sphx-glr-auto-examples-cluster-plot-kmeans-silhouette-analysis-py"
   ]
  },
  {
   "cell_type": "code",
   "execution_count": 116,
   "metadata": {
    "scrolled": false
   },
   "outputs": [
    {
     "name": "stdout",
     "output_type": "stream",
     "text": [
      "Sexo - 1\n",
      "situacao - 2\n",
      "filhos - 3\n",
      "renda - 4\n",
      "quem_você_está_morando_atualmente - 5\n",
      "estado_civil - 6\n",
      "residindo_em - 7\n",
      "distancia_ufc_casa - 8\n",
      "meio_de_transporte - 9\n",
      "apresenta_necessidade_educacional_especial - 10\n",
      "tipo_escola_ensino_fundamental - 11\n",
      "tipo_escola_ensino_medio - 12\n",
      "forma_ingresso_ufc_qxd - 13\n",
      "atividade_remunerada - 14\n",
      "participa_algum_tipo_atividade_organização_associação - 15\n",
      "afinidade_linguagens - 16\n",
      "afinidade_humanas - 17\n",
      "afinidade_matematica - 18\n",
      "afinidade_natureza - 19\n",
      "estudo_fora_sala - 20\n",
      "motivacao_curso - 21\n",
      "tarefa_durante_curso - 22\n",
      "dedicacao_exigida - 23\n",
      "disciplinas_ofertadas - 24\n",
      "competencias_habilidades_requiridas - 25\n",
      "condicoes_mercado_trabalho - 26\n",
      "competencias_area_ti - 27\n",
      "realizacao_profissional - 28\n",
      "concluir_curso_nessa_instituicao - 29\n",
      "nao_mudaria_de_curso - 30\n"
     ]
    }
   ],
   "source": [
    "#enumerando as colunas\n",
    "cont = 1\n",
    "for item in dados_2016.columns:\n",
    "    print(item + \" - \" + str(cont))\n",
    "    cont += 1"
   ]
  },
  {
   "cell_type": "code",
   "execution_count": 105,
   "metadata": {
    "collapsed": true
   },
   "outputs": [],
   "source": [
    "#rodando o kmeans para k=2 até k=10"
   ]
  },
  {
   "cell_type": "code",
   "execution_count": 102,
   "metadata": {
    "collapsed": true,
    "scrolled": false
   },
   "outputs": [],
   "source": [
    "#com k=2\n",
    "modelo1 = KMeans(n_clusters=2).fit(dados_2016)\n",
    "#modelo1.cluster_centers_"
   ]
  },
  {
   "cell_type": "code",
   "execution_count": 107,
   "metadata": {
    "collapsed": true
   },
   "outputs": [],
   "source": [
    "#com k=3\n",
    "modelo2 = KMeans(n_clusters=3).fit(dados_2016)\n",
    "#modelo2.cluster_centers_"
   ]
  },
  {
   "cell_type": "code",
   "execution_count": 109,
   "metadata": {
    "collapsed": true
   },
   "outputs": [],
   "source": [
    "#com k=4\n",
    "modelo3 = KMeans(n_clusters=4).fit(dados_2016)\n",
    "#modelo3.cluster_centers_"
   ]
  },
  {
   "cell_type": "code",
   "execution_count": 110,
   "metadata": {
    "collapsed": true
   },
   "outputs": [],
   "source": [
    "#com k=5\n",
    "modelo4 = KMeans(n_clusters=5).fit(dados_2016)\n",
    "#modelo4.cluster_centers_"
   ]
  },
  {
   "cell_type": "code",
   "execution_count": 111,
   "metadata": {
    "collapsed": true
   },
   "outputs": [],
   "source": [
    "#com k=6\n",
    "modelo5 = KMeans(n_clusters=6).fit(dados_2016)\n",
    "#modelo5.cluster_centers_"
   ]
  },
  {
   "cell_type": "code",
   "execution_count": 112,
   "metadata": {
    "collapsed": true
   },
   "outputs": [],
   "source": [
    "#com k=7\n",
    "modelo6 = KMeans(n_clusters=7).fit(dados_2016)\n",
    "#modelo6.cluster_centers_"
   ]
  },
  {
   "cell_type": "code",
   "execution_count": 113,
   "metadata": {
    "collapsed": true
   },
   "outputs": [],
   "source": [
    "#com k=8\n",
    "modelo7 = KMeans(n_clusters=8).fit(dados_2016)\n",
    "#modelo7.cluster_centers_"
   ]
  },
  {
   "cell_type": "code",
   "execution_count": 114,
   "metadata": {
    "collapsed": true
   },
   "outputs": [],
   "source": [
    "#com k=9\n",
    "modelo8 = KMeans(n_clusters=9).fit(dados_2016)\n",
    "#modelo8.cluster_centers_"
   ]
  },
  {
   "cell_type": "code",
   "execution_count": 115,
   "metadata": {
    "collapsed": true
   },
   "outputs": [],
   "source": [
    "#com k=10\n",
    "modelo9 = KMeans(n_clusters=10).fit(dados_2016)\n",
    "#modelo10.cluster_centers_"
   ]
  }
 ],
 "metadata": {
  "kernelspec": {
   "display_name": "Python 3",
   "language": "python",
   "name": "python3"
  },
  "language_info": {
   "codemirror_mode": {
    "name": "ipython",
    "version": 3
   },
   "file_extension": ".py",
   "mimetype": "text/x-python",
   "name": "python",
   "nbconvert_exporter": "python",
   "pygments_lexer": "ipython3",
   "version": "3.6.2"
  }
 },
 "nbformat": 4,
 "nbformat_minor": 2
}
