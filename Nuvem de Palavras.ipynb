{
 "cells": [
  {
   "cell_type": "code",
   "execution_count": 36,
   "metadata": {
    "scrolled": false
   },
   "outputs": [
    {
     "name": "stdout",
     "output_type": "stream",
     "text": [
      "14578\n"
     ]
    }
   ],
   "source": [
    "arquivo = open(\"O que você espera do curso que está inciando? Quais suas expectativas?.txt\")\n",
    "file = open('novo-arquivo.txt', 'w')\n",
    "cont = 0\n",
    "for linha in arquivo:\n",
    "    linha = linha.split(' ')\n",
    "    for elemento in linha:\n",
    "        elemento = elemento.lower()\n",
    "        if elemento != 'de' and elemento != 'com' and elemento != 'um'and elemento != 'o' and elemento != 'para' and elemento != 'espero' and elemento != 'eu' and elemento != 'curso' and elemento != 'que' and elemento != 'em' and elemento != 'e' and elemento != :\n",
    "            file.write(elemento + \" \")\n",
    "            cont += 1\n",
    "print(cont)\n",
    "arquivo.seek(0, 0)\n",
    "file.seek(0,0)\n",
    "arquivo.close()\n",
    "file.close()"
   ]
  },
  {
   "cell_type": "code",
   "execution_count": null,
   "metadata": {
    "collapsed": true
   },
   "outputs": [],
   "source": []
  }
 ],
 "metadata": {
  "kernelspec": {
   "display_name": "Python 3",
   "language": "python",
   "name": "python3"
  },
  "language_info": {
   "codemirror_mode": {
    "name": "ipython",
    "version": 3
   },
   "file_extension": ".py",
   "mimetype": "text/x-python",
   "name": "python",
   "nbconvert_exporter": "python",
   "pygments_lexer": "ipython3",
   "version": "3.6.2"
  }
 },
 "nbformat": 4,
 "nbformat_minor": 2
}
