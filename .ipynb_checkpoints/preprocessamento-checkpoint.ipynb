{
 "cells": [
  {
   "cell_type": "code",
   "execution_count": 2,
   "metadata": {
    "collapsed": true
   },
   "outputs": [],
   "source": [
    "# modulo para gerar o preprocessamento dos dados"
   ]
  },
  {
   "cell_type": "code",
   "execution_count": 1,
   "metadata": {
    "collapsed": true
   },
   "outputs": [],
   "source": [
    "import pandas as pd"
   ]
  },
  {
   "cell_type": "code",
   "execution_count": 2,
   "metadata": {
    "collapsed": true
   },
   "outputs": [],
   "source": [
    "# para gerar todas as colunas\n",
    "def preprocessar(df):\n",
    "    new_df = pd.DataFrame()\n",
    "    \n",
    "    new_df['Sexo'] = pd.Series([1 if s == 'Masculino' else 0 for s in df['Sexo']], name = 'Sexo')\n",
    "    #new_df['situacao'] = pd.Series([0 if s != \"ATIVO\" else 1 for s in df['situacao']])\n",
    "    new_df['filhos'] = pd.Series([0 if s == 'Não' else 1 for s in df['filhos']])\n",
    "    new_df['renda'] = pd.Series([0 if s == 'Até 1000 reais' else 1 if s == 'De 1001 até 2000 reais' else 2 if s == 'De 2001 até 3000 reais' else 3 if s == 'De 3001 até 4000 reais' else 4 if s == 'De 4001 até 5000 reais' else 5 if s == 'De 5001 até 6000 reais' else 6 for s in df['renda']])\n",
    "    new_df['quem_você_está_morando_atualmente'] = pd.Series([0 if s == 'Amigos' else 2 if s == 'Sozinho' else 3 if s == 'Parentes' else 4 if s == 'Com sua esposa/marido ou companheiro/a' else 5 if s == 'Família' else 6 for s in df['quem_você_está_morando_atualmente']])\n",
    "    new_df['estado_civil'] = pd.Series([0 if s == 'Solteiro/a' else 1 for s in df['estado_civil']])\n",
    "    new_df['residindo_em'] = pd.Series([0 if s == 'Zona urbana' else 1 for s in df['residindo_em']])\n",
    "    new_df['distancia_ufc_casa'] = pd.Series([0 if s == 'Até 10 km' else 1 if s == 'Entre 10 km e 25 km' else 2 if s == 'Entre 25 km e 50 km' else 3 if s == 'Entre 50 km e 100 km' else 4 if s == 'Acima de 100 km' else 5 for s in df['distancia_ufc_casa']])\n",
    "    new_df['meio_de_transporte'] = pd.Series([0 if s == 'Ônibus universitário' else 1 if s == 'Automóvel particular' else 2 if s == 'Biclicleta' else 3 if s == 'Moto' else 4 if s == 'Transporte alternativo (taxi, mototaxi, etc)' else 5for s in df['meio_de_transporte']])\n",
    "    new_df['apresenta_necessidade_educacional_especial'] = pd.Series([0 if s == 'Não' else 1 if 'Sim. Visual' else 2 for s in df['apresenta_necessidade_educacional_especial']])\n",
    "    new_df['tipo_escola_ensino_fundamental'] = pd.Series([0 if s == 'Pública' else 1 if s == 'Particular' else 2 if s == 'Pública e particular' else 3 for s in df['tipo_escola_ensino_fundamental']])\n",
    "    new_df['tipo_escola_ensino_medio'] = pd.Series([0 if s == 'Pública - Profissionalizante na Área de Informática' else 1 if s == 'Particular' else 2 if s == 'Pública Tradicional' else 3 if s == 'Particular e pública' else 4 for s in df['tipo_escola_ensino_medio']])\n",
    "    new_df['forma_ingresso_ufc_qxd'] = pd.Series([0 if s == 'Ampla concorrência' else 1 if s == 'Cota L1 (Candidatos que cursaram todo o ensino médio em escolas públicas, com renda familiar bruta per capita igual ou inferior a 1,5 salário mínimo)' else 2 if s == 'Cota L2 (Candidatos que cursaram todo o ensino médio em escolas públicas, com renda familiar bruta per capita igual ou inferior a 1,5 salário mínimo, autodeclarados pretos, pardos ou indígenas)' else 3 if s == 'Cota L3 (Candidatos que cursaram todo o ensino médio em escolas públicas, INDEPENDENTE DA RENDA)' else 4 if s == 'Cota L4 (Candidatos que cursaram todo o ensino médio em escolas públicas, INDEPENDENTE DA RENDA, autodeclarados pretos, pardos ou indígenas)' else 5 for s in df['forma_ingresso_ufc_qxd']])\n",
    "    new_df['atividade_remunerada'] = pd.Series([0 if s == 'Não exerço nenhuma atividade remunerada.' else 1 if s == 'Sim, mas NÃO na área de tecnologia da informação ou afins.' else 2 if s == 'Sim, na área de tecnologia da informação ou afins.' else 3 for s in df['atividade_remunerada']])\n",
    "    new_df['participa_algum_tipo_atividade_organização_associação'] = pd.Series([0 if s == 'Clube recreativo ou associação esportiva., Grupo cultural (dança, teatro, música, coral, etc)., Células Estundatis' else 1 if s ==  'Grupo cultural (dança, teatro, música, coral, etc).' else 2 if s == 'Não participo de nenhuma atividade.' else 3 if s == 'Movimento estudantil'else 4 for s in df['atividade_remunerada']])\n",
    "    new_df['afinidade_linguagens'] = pd.Series([0 if s == 'Pouquíssima afinidade' else 1 if s == 'Alguma afinidade' else 2 if s == 'Boa afinidade' else 3 if s == 'Muita afinidade' else 4 for s in df['afinidade_linguagens']])\n",
    "    new_df['afinidade_humanas'] = pd.Series([0 if s == 'Pouquíssima afinidade' else 1 if s == 'Alguma afinidade' else 2 if s == 'Boa afinidade' else 3 if s == 'Muita afinidade' else 4 for s in df['afinidade_humanas']])\n",
    "    new_df['afinidade_matematica'] = pd.Series([0 if s == 'Pouquíssima afinidade' else 1 if s == 'Alguma afinidade' else 2 if s == 'Boa afinidade' else 3 if s == 'Muita afinidade' else 4 for s in df['afinidade_matematica']])\n",
    "    new_df['afinidade_natureza'] = pd.Series([0 if s == 'Pouquíssima afinidade' else 1 if s == 'Alguma afinidade' else 2 if s == 'Boa afinidade' else 3 if s == 'Muita afinidade' else 4 for s in df['afinidade_natureza']])\n",
    "    new_df['estudo_fora_sala'] = pd.Series([0 if s == 'Até 2 horas' else 2 if s == 'De 2 a 3 horas' else 3 if s == 'De 3 a 4 horas' else 4 if s == 'De 4 a 6 horas' else 5 if s == 'Acima de 6 horas' else 6 for s in df['estudo_fora_sala']])\n",
    "    new_df['motivacao_curso'] = pd.Series([0 if s == 'Totalmente desmotivado.' else 1 if s == 'Pouco motivado.' else 2 if s == 'Motivado.' else 3 if s == 'Muito motivado.' else 6 for s in df['motivacao_curso']])\n",
    "    new_df['tarefa_durante_curso'] = pd.Series([0 if s == 'Pouquíssimo conhecimento' else 1 if s == 'Algum conhecimento' else 2 if s == 'Conheço bem' else 3 if s == 'Conheço muito bem' else 4 for s in df['tarefa_durante_curso']])\n",
    "    new_df['dedicacao_exigida'] = pd.Series([0 if s == 'Pouquíssimo conhecimento' else 1 if s == 'Algum conhecimento' else 2 if s == 'Conheço bem' else 3 if s == 'Conheço muito bem' else 4 for s in df['dedicacao_exigida']])\n",
    "    new_df['disciplinas_ofertadas'] = pd.Series([0 if s == 'Pouquíssimo conhecimento' else 1 if s == 'Algum conhecimento' else 2 if s == 'Conheço bem' else 3 if s == 'Conheço muito bem' else 4 for s in df['disciplinas_ofertadas']])\n",
    "    new_df['competencias_habilidades_requiridas'] = pd.Series([0 if s == 'Pouquíssimo conhecimento' else 1 if s == 'Algum conhecimento' else 2 if s == 'Conheço bem' else 3 if s == 'Conheço muito bem' else 4 for s in df['competencias_habilidades_requiridas']])\n",
    "    new_df['condicoes_mercado_trabalho'] = pd.Series([0 if s == 'Pouquíssimo conhecimento' else 1 if s == 'Algum conhecimento' else 2 if s == 'Conheço bem' else 3 if s == 'Conheço muito bem' else 4 for s in df['condicoes_mercado_trabalho']])\n",
    "    new_df['competencias_area_ti'] = pd.Series([0 if s == 'Nunca se verifica' else 1 if s == 'Poucas vezes se verifica' else 2 if s == 'Verifica-se com frequência' else 3 if s == 'Verifica-se sempre' else 4 for s in df['competencias_area_ti']])\n",
    "    new_df['realizacao_profissional'] = pd.Series([0 if s == 'Nunca se verifica' else 1 if s == 'Poucas vezes se verifica' else 2 if s == 'Verifica-se com frequência' else 3 if s == 'Verifica-se sempre' else 4 for s in df['realizacao_profissional']])\n",
    "    new_df['concluir_curso_nessa_instituicao'] = pd.Series([0 if s == 'Nunca se verifica' else 1 if s == 'Poucas vezes se verifica' else 2 if s == 'Verifica-se com frequência' else 3 if s == 'Verifica-se sempre' else 4 for s in df['concluir_curso_nessa_instituicao']])\n",
    "    new_df['nao_mudaria_de_curso'] = pd.Series([0 if s == 'Nunca se verifica' else 1 if s == 'Poucas vezes se verifica' else 2 if s == 'Verifica-se com frequência' else 3 if s == 'Verifica-se sempre' else 4 for s in df['nao_mudaria_de_curso']])\n",
    "\n",
    "    return new_df"
   ]
  },
  {
   "cell_type": "code",
   "execution_count": 5,
   "metadata": {
    "collapsed": true
   },
   "outputs": [],
   "source": [
    "# para gerar um dataset apenas com as colunas passadas\n",
    "def preprocessar_apenas_colunas(df, colunas):\n",
    "    new_df = pd.DataFrame()\n",
    "    if('sexo' or 'Sexo' in colunas):\n",
    "        new_df['Sexo'] = pd.Series([1 if s == 'Masculino' else 0 for s in df['Sexo']], name = 'Sexo')\n",
    "    if('situacao' in colunas):\n",
    "        new_df['situacao'] = pd.Series([0 if s != \"ATIVO\" else 1 for s in df['situacao']])\n",
    "    if('filhos' in colunas):\n",
    "        new_df['filhos'] = pd.Series([0 if s == 'Não' else 1 for s in df['filhos']])\n",
    "    if('renda' in colunas):\n",
    "        new_df['renda'] = pd.Series([0 if s == 'Até 1000 reais' else 1 if s == 'De 1001 até 2000 reais' else 2 if s == 'De 2001 até 3000 reais' else 3 if s == 'De 3001 até 4000 reais' else 4 if s == 'De 4001 até 5000 reais' else 5 if s == 'De 5001 até 6000 reais' else 6 for s in df['renda']])\n",
    "    if('quem_você_está_morando_atualmente' in colunas):\n",
    "        new_df['quem_você_está_morando_atualmente'] = pd.Series([0 if s == 'Amigos' else 2 if s == 'Sozinho' else 3 if s == 'Parentes' else 4 if s == 'Com sua esposa/marido ou companheiro/a' else 5 if s == 'Família' else 6 for s in df['quem_você_está_morando_atualmente']])\n",
    "    if('estado_civil' in colunas):\n",
    "        new_df['estado_civil'] = pd.Series([0 if s == 'Solteiro/a' else 1 for s in df['estado_civil']])\n",
    "    if('residindo_em' in colunas):\n",
    "        new_df['residindo_em'] = pd.Series([0 if s == 'Zona urbana' else 1 for s in df['residindo_em']])\n",
    "    if('distancia_ufc_casa' in colunas):\n",
    "        new_df['distancia_ufc_casa'] = pd.Series([0 if s == 'Até 10 km' else 1 if s == 'Entre 10 km e 25 km' else 2 if s == 'Entre 25 km e 50 km' else 3 if s == 'Entre 50 km e 100 km' else 4 if s == 'Acima de 100 km' else 5 for s in df['distancia_ufc_casa']])\n",
    "    if('meio_de_transporte' in colunas):\n",
    "        new_df['meio_de_transporte'] = pd.Series([0 if s == 'Ônibus universitário' else 1 if s == 'Automóvel particular' else 2 if s == 'Biclicleta' else 3 if s == 'Moto' else 4 if s == 'Transporte alternativo (taxi, mototaxi, etc)' else 5for s in df['meio_de_transporte']])\n",
    "    if('apresenta_necessidade_educacional_especial' in colunas):\n",
    "        new_df['apresenta_necessidade_educacional_especial'] = pd.Series([0 if s == 'Não' else 1 if 'Sim. Visual' else 2 for s in df['apresenta_necessidade_educacional_especial']])\n",
    "    if('tipo_escola_ensino_fundamental' in colunas):\n",
    "        new_df['tipo_escola_ensino_fundamental'] = pd.Series([0 if s == 'Pública' else 1 if s == 'Particular' else 2 if s == 'Pública e particular' else 3 for s in df['tipo_escola_ensino_fundamental']])\n",
    "    if('tipo_escola_ensino_medio' in colunas):\n",
    "        new_df['tipo_escola_ensino_medio'] = pd.Series([0 if s == 'Pública - Profissionalizante na Área de Informática' else 1 if s == 'Particular' else 2 if s == 'Pública Tradicional' else 3 if s == 'Particular e pública' else 4 for s in df['tipo_escola_ensino_medio']])\n",
    "    if('forma_ingresso_ufc_qxd' in colunas):\n",
    "        new_df['forma_ingresso_ufc_qxd'] = pd.Series([0 if s == 'Ampla concorrência' else 1 if s == 'Cota L1 (Candidatos que cursaram todo o ensino médio em escolas públicas, com renda familiar bruta per capita igual ou inferior a 1,5 salário mínimo)' else 2 if s == 'Cota L2 (Candidatos que cursaram todo o ensino médio em escolas públicas, com renda familiar bruta per capita igual ou inferior a 1,5 salário mínimo, autodeclarados pretos, pardos ou indígenas)' else 3 if s == 'Cota L3 (Candidatos que cursaram todo o ensino médio em escolas públicas, INDEPENDENTE DA RENDA)' else 4 if s == 'Cota L4 (Candidatos que cursaram todo o ensino médio em escolas públicas, INDEPENDENTE DA RENDA, autodeclarados pretos, pardos ou indígenas)' else 5 for s in df['forma_ingresso_ufc_qxd']])\n",
    "    if('atividade_remunerada' in colunas):\n",
    "        new_df['atividade_remunerada'] = pd.Series([0 if s == 'Não exerço nenhuma atividade remunerada.' else 1 if s == 'Sim, mas NÃO na área de tecnologia da informação ou afins.' else 2 if s == 'Sim, na área de tecnologia da informação ou afins.' else 3 for s in df['atividade_remunerada']])\n",
    "    if('participa_algum_tipo_atividade_organização_associação' in colunas):\n",
    "        new_df['participa_algum_tipo_atividade_organização_associação'] = pd.Series([0 if s == 'Clube recreativo ou associação esportiva., Grupo cultural (dança, teatro, música, coral, etc)., Células Estundatis' else 1 if s ==  'Grupo cultural (dança, teatro, música, coral, etc).' else 2 if s == 'Não participo de nenhuma atividade.' else 3 if s == 'Movimento estudantil'else 4 for s in df['atividade_remunerada']])\n",
    "    if('afinidade_linguagens' in colunas):\n",
    "        new_df['afinidade_linguagens'] = pd.Series([0 if s == 'Pouquíssima afinidade' else 1 if s == 'Alguma afinidade' else 2 if s == 'Boa afinidade' else 3 if s == 'Muita afinidade' else 4 for s in df['afinidade_linguagens']])\n",
    "    if('afinidade_humanas' in colunas):\n",
    "        new_df['afinidade_humanas'] = pd.Series([0 if s == 'Pouquíssima afinidade' else 1 if s == 'Alguma afinidade' else 2 if s == 'Boa afinidade' else 3 if s == 'Muita afinidade' else 4 for s in df['afinidade_humanas']])\n",
    "    if('afinidade_matematica' in colunas):\n",
    "        new_df['afinidade_matematica'] = pd.Series([0 if s == 'Pouquíssima afinidade' else 1 if s == 'Alguma afinidade' else 2 if s == 'Boa afinidade' else 3 if s == 'Muita afinidade' else 4 for s in df['afinidade_matematica']])\n",
    "    if('afinidade_natureza' in colunas):\n",
    "        new_df['afinidade_natureza'] = pd.Series([0 if s == 'Pouquíssima afinidade' else 1 if s == 'Alguma afinidade' else 2 if s == 'Boa afinidade' else 3 if s == 'Muita afinidade' else 4 for s in df['afinidade_natureza']])\n",
    "    if('estudo_fora_sala' in colunas):\n",
    "        new_df['estudo_fora_sala'] = pd.Series([0 if s == 'Até 2 horas' else 2 if s == 'De 2 a 3 horas' else 3 if s == 'De 3 a 4 horas' else 4 if s == 'De 4 a 6 horas' else 5 if s == 'Acima de 6 horas' else 6 for s in df['estudo_fora_sala']])\n",
    "    if('motivacao_curso' in colunas):\n",
    "        new_df['motivacao_curso'] = pd.Series([0 if s == 'Totalmente desmotivado.' else 1 if s == 'Pouco motivado.' else 2 if s == 'Motivado.' else 3 if s == 'Muito motivado.' else 6 for s in df['motivacao_curso']])\n",
    "    if('tarefa_durante_curso' in colunas):\n",
    "        new_df['tarefa_durante_curso'] = pd.Series([0 if s == 'Pouquíssimo conhecimento' else 1 if s == 'Algum conhecimento' else 2 if s == 'Conheço bem' else 3 if s == 'Conheço muito bem' else 4 for s in df['tarefa_durante_curso']])\n",
    "    if('dedicacao_exigida' in colunas):\n",
    "        new_df['dedicacao_exigida'] = pd.Series([0 if s == 'Pouquíssimo conhecimento' else 1 if s == 'Algum conhecimento' else 2 if s == 'Conheço bem' else 3 if s == 'Conheço muito bem' else 4 for s in df['dedicacao_exigida']])\n",
    "    if('disciplinas_ofertadas' in colunas):\n",
    "        new_df['disciplinas_ofertadas'] = pd.Series([0 if s == 'Pouquíssimo conhecimento' else 1 if s == 'Algum conhecimento' else 2 if s == 'Conheço bem' else 3 if s == 'Conheço muito bem' else 4 for s in df['disciplinas_ofertadas']])\n",
    "    if('competencias_habilidades_requiridas' in colunas):\n",
    "        new_df['competencias_habilidades_requiridas'] = pd.Series([0 if s == 'Pouquíssimo conhecimento' else 1 if s == 'Algum conhecimento' else 2 if s == 'Conheço bem' else 3 if s == 'Conheço muito bem' else 4 for s in df['competencias_habilidades_requiridas']])\n",
    "    if('condicoes_mercado_trabalho' in colunas):\n",
    "        new_df['condicoes_mercado_trabalho'] = pd.Series([0 if s == 'Pouquíssimo conhecimento' else 1 if s == 'Algum conhecimento' else 2 if s == 'Conheço bem' else 3 if s == 'Conheço muito bem' else 4 for s in df['condicoes_mercado_trabalho']])\n",
    "    if('competencias_area_ti' in colunas):\n",
    "        new_df['competencias_area_ti'] = pd.Series([0 if s == 'Nunca se verifica' else 1 if s == 'Poucas vezes se verifica' else 2 if s == 'Verifica-se com frequência' else 3 if s == 'Verifica-se sempre' else 4 for s in df['competencias_area_ti']])\n",
    "    if('realizacao_profissional' in colunas):\n",
    "        new_df['realizacao_profissional'] = pd.Series([0 if s == 'Nunca se verifica' else 1 if s == 'Poucas vezes se verifica' else 2 if s == 'Verifica-se com frequência' else 3 if s == 'Verifica-se sempre' else 4 for s in df['realizacao_profissional']])\n",
    "    if('concluir_curso_nessa_instituicao' in colunas):\n",
    "        new_df['concluir_curso_nessa_instituicao'] = pd.Series([0 if s == 'Nunca se verifica' else 1 if s == 'Poucas vezes se verifica' else 2 if s == 'Verifica-se com frequência' else 3 if s == 'Verifica-se sempre' else 4 for s in df['concluir_curso_nessa_instituicao']])\n",
    "    if('nao_mudaria_de_curso' in colunas):\n",
    "        new_df['nao_mudaria_de_curso'] = pd.Series([0 if s == 'Nunca se verifica' else 1 if s == 'Poucas vezes se verifica' else 2 if s == 'Verifica-se com frequência' else 3 if s == 'Verifica-se sempre' else 4 for s in df['nao_mudaria_de_curso']])\n",
    "    return new_df"
   ]
  },
  {
   "cell_type": "code",
   "execution_count": 3,
   "metadata": {
    "collapsed": true
   },
   "outputs": [],
   "source": [
    "def gerar_target(df):\n",
    "    new_df = pd.DataFrame()\n",
    "    new_df['situacao'] = pd.Series([0 if s != \"ATIVO\" else 1 for s in df['situacao']])\n",
    "    \n",
    "    return df"
   ]
  }
 ],
 "metadata": {
  "kernelspec": {
   "display_name": "Python 3",
   "language": "python",
   "name": "python3"
  },
  "language_info": {
   "codemirror_mode": {
    "name": "ipython",
    "version": 3
   },
   "file_extension": ".py",
   "mimetype": "text/x-python",
   "name": "python",
   "nbconvert_exporter": "python",
   "pygments_lexer": "ipython3",
   "version": "3.6.2"
  }
 },
 "nbformat": 4,
 "nbformat_minor": 2
}
