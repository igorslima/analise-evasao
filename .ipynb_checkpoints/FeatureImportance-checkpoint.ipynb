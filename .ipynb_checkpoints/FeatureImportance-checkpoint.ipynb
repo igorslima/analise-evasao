{
 "cells": [
  {
   "cell_type": "code",
   "execution_count": 1,
   "metadata": {},
   "outputs": [
    {
     "name": "stdout",
     "output_type": "stream",
     "text": [
      "Importing Jupyter notebook from preprocessamento.ipynb\n"
     ]
    }
   ],
   "source": [
    "import pandas as pd\n",
    "import numpy as np\n",
    "import matplotlib.pyplot as plt\n",
    "%matplotlib inline\n",
    "#Importando classificadores\n",
    "import nbimporter\n",
    "from preprocessamento import gerar_target\n",
    "from preprocessamento import preprocessar"
   ]
  },
  {
   "cell_type": "markdown",
   "metadata": {},
   "source": [
    "### Carregamento dos dados, e preprocessamento"
   ]
  },
  {
   "cell_type": "code",
   "execution_count": 21,
   "metadata": {
    "collapsed": true
   },
   "outputs": [],
   "source": [
    "data_2016 = pd.read_csv('respostas_2016.csv')"
   ]
  },
  {
   "cell_type": "code",
   "execution_count": 22,
   "metadata": {
    "collapsed": true
   },
   "outputs": [],
   "source": [
    "dados_2016 = preprocessar(data_2016)"
   ]
  },
  {
   "cell_type": "code",
   "execution_count": 23,
   "metadata": {
    "collapsed": true
   },
   "outputs": [],
   "source": [
    "target = gerar_target(data_2016)"
   ]
  },
  {
   "cell_type": "code",
   "execution_count": 17,
   "metadata": {},
   "outputs": [
    {
     "data": {
      "text/plain": [
       "(237, 29)"
      ]
     },
     "execution_count": 17,
     "metadata": {},
     "output_type": "execute_result"
    }
   ],
   "source": [
    "dados_2016.shape"
   ]
  },
  {
   "cell_type": "markdown",
   "metadata": {},
   "source": [
    "### Gerando Feature Importace com Extra Tree Classifier"
   ]
  },
  {
   "cell_type": "code",
   "execution_count": 6,
   "metadata": {
    "collapsed": true
   },
   "outputs": [],
   "source": [
    "from sklearn.ensemble import ExtraTreesClassifier"
   ]
  },
  {
   "cell_type": "code",
   "execution_count": 7,
   "metadata": {
    "collapsed": true
   },
   "outputs": [],
   "source": [
    "forest = ExtraTreesClassifier()"
   ]
  },
  {
   "cell_type": "code",
   "execution_count": 8,
   "metadata": {},
   "outputs": [
    {
     "data": {
      "text/plain": [
       "ExtraTreesClassifier(bootstrap=False, class_weight=None, criterion='gini',\n",
       "           max_depth=None, max_features='auto', max_leaf_nodes=None,\n",
       "           min_impurity_split=1e-07, min_samples_leaf=1,\n",
       "           min_samples_split=2, min_weight_fraction_leaf=0.0,\n",
       "           n_estimators=10, n_jobs=1, oob_score=False, random_state=None,\n",
       "           verbose=0, warm_start=False)"
      ]
     },
     "execution_count": 8,
     "metadata": {},
     "output_type": "execute_result"
    }
   ],
   "source": [
    "forest.fit(dados_2016, target)"
   ]
  },
  {
   "cell_type": "code",
   "execution_count": 9,
   "metadata": {
    "collapsed": true
   },
   "outputs": [],
   "source": [
    "importances = forest.feature_importances_"
   ]
  },
  {
   "cell_type": "code",
   "execution_count": 10,
   "metadata": {
    "collapsed": true
   },
   "outputs": [],
   "source": [
    "std = np.std([tree.feature_importances_ for tree in forest.estimators_],axis=0)"
   ]
  },
  {
   "cell_type": "code",
   "execution_count": 11,
   "metadata": {
    "collapsed": true
   },
   "outputs": [],
   "source": [
    "indices = np.argsort(importances)[::-1]"
   ]
  },
  {
   "cell_type": "code",
   "execution_count": 12,
   "metadata": {},
   "outputs": [
    {
     "name": "stdout",
     "output_type": "stream",
     "text": [
      "Feature ranking:\n",
      "1. feature 25 (0.052910)\n",
      "2. feature 17 (0.048541)\n",
      "3. feature 21 (0.048444)\n",
      "4. feature 16 (0.047701)\n",
      "5. feature 10 (0.047404)\n",
      "6. feature 24 (0.047237)\n",
      "7. feature 14 (0.046787)\n",
      "8. feature 26 (0.045201)\n",
      "9. feature 6 (0.044895)\n",
      "10. feature 22 (0.044422)\n",
      "11. feature 20 (0.044293)\n",
      "12. feature 11 (0.043772)\n",
      "13. feature 18 (0.043366)\n",
      "14. feature 28 (0.043177)\n",
      "15. feature 3 (0.041911)\n",
      "16. feature 23 (0.041839)\n",
      "17. feature 19 (0.040734)\n",
      "18. feature 15 (0.039194)\n",
      "19. feature 2 (0.038736)\n",
      "20. feature 9 (0.033896)\n",
      "21. feature 27 (0.033221)\n",
      "22. feature 0 (0.031666)\n",
      "23. feature 4 (0.011187)\n",
      "24. feature 12 (0.010781)\n",
      "25. feature 7 (0.009870)\n",
      "26. feature 1 (0.007468)\n",
      "27. feature 8 (0.006881)\n",
      "28. feature 5 (0.004467)\n",
      "29. feature 13 (0.000000)\n"
     ]
    },
    {
     "data": {
      "image/png": "[encoded data removed]",
      "text/plain": [
       "<matplotlib.figure.Figure at 0x7f1baef6e780>"
      ]
     },
     "metadata": {},
     "output_type": "display_data"
    }
   ],
   "source": [
    "print(\"Feature ranking:\")\n",
    "\n",
    "for f in range(dados_2016.shape[1]):\n",
    "    print(\"%d. feature %d (%f)\" % (f + 1, indices[f], importances[indices[f]]))\n",
    "\n",
    "plt.figure()\n",
    "plt.title(\"Feature importances\")\n",
    "plt.bar(range(dados_2016.shape[1]), importances[indices],\n",
    "       color=\"r\", yerr=std[indices], align=\"center\")\n",
    "plt.xticks(range(dados_2016.shape[1]), indices)\n",
    "plt.xlim([-1, dados_2016.shape[1]])\n",
    "plt.show()"
   ]
  },
  {
   "cell_type": "markdown",
   "metadata": {},
   "source": [
    "### Gerando Feature Importace com RamdomForest"
   ]
  },
  {
   "cell_type": "code",
   "execution_count": 7,
   "metadata": {
    "collapsed": true
   },
   "outputs": [],
   "source": [
    "from sklearn.ensemble import RandomForestClassifier"
   ]
  },
  {
   "cell_type": "code",
   "execution_count": 15,
   "metadata": {
    "collapsed": true
   },
   "outputs": [],
   "source": [
    "clf = RandomForestClassifier(max_depth=10, random_state=0)"
   ]
  },
  {
   "cell_type": "code",
   "execution_count": 16,
   "metadata": {},
   "outputs": [
    {
     "data": {
      "text/plain": [
       "RandomForestClassifier(bootstrap=True, class_weight=None, criterion='gini',\n",
       "            max_depth=10, max_features='auto', max_leaf_nodes=None,\n",
       "            min_impurity_split=1e-07, min_samples_leaf=1,\n",
       "            min_samples_split=2, min_weight_fraction_leaf=0.0,\n",
       "            n_estimators=10, n_jobs=1, oob_score=False, random_state=0,\n",
       "            verbose=0, warm_start=False)"
      ]
     },
     "execution_count": 16,
     "metadata": {},
     "output_type": "execute_result"
    }
   ],
   "source": [
    "clf.fit(dados_2016, target)"
   ]
  },
  {
   "cell_type": "code",
   "execution_count": 17,
   "metadata": {
    "collapsed": true
   },
   "outputs": [],
   "source": [
    "importances = clf.feature_importances_"
   ]
  },
  {
   "cell_type": "code",
   "execution_count": 18,
   "metadata": {
    "collapsed": true
   },
   "outputs": [],
   "source": [
    "std = np.std([tree.feature_importances_ for tree in clf.estimators_],axis=0)"
   ]
  },
  {
   "cell_type": "code",
   "execution_count": 19,
   "metadata": {
    "collapsed": true
   },
   "outputs": [],
   "source": [
    "indices = np.argsort(importances)[::-1]"
   ]
  },
  {
   "cell_type": "code",
   "execution_count": 20,
   "metadata": {
    "scrolled": true
   },
   "outputs": [
    {
     "name": "stdout",
     "output_type": "stream",
     "text": [
      "Feature ranking:\n",
      "1. feature 14 (0.056529)\n",
      "2. feature 23 (0.054098)\n",
      "3. feature 26 (0.053582)\n",
      "4. feature 18 (0.051392)\n",
      "5. feature 16 (0.048026)\n",
      "6. feature 17 (0.045907)\n",
      "7. feature 11 (0.045763)\n",
      "8. feature 15 (0.045723)\n",
      "9. feature 2 (0.044643)\n",
      "10. feature 3 (0.044332)\n",
      "11. feature 27 (0.044127)\n",
      "12. feature 20 (0.044001)\n",
      "13. feature 22 (0.042361)\n",
      "14. feature 28 (0.041873)\n",
      "15. feature 10 (0.041467)\n",
      "16. feature 6 (0.040621)\n",
      "17. feature 24 (0.039418)\n",
      "18. feature 25 (0.039166)\n",
      "19. feature 9 (0.038001)\n",
      "20. feature 21 (0.037394)\n",
      "21. feature 19 (0.033636)\n",
      "22. feature 0 (0.026693)\n",
      "23. feature 7 (0.012778)\n",
      "24. feature 12 (0.011920)\n",
      "25. feature 4 (0.007030)\n",
      "26. feature 8 (0.005809)\n",
      "27. feature 1 (0.002152)\n",
      "28. feature 5 (0.001559)\n",
      "29. feature 13 (0.000000)\n"
     ]
    },
    {
     "data": {
      "image/png": "[encoded data removed]",
      "text/plain": [
       "<matplotlib.figure.Figure at 0x7f1baec0add8>"
      ]
     },
     "metadata": {},
     "output_type": "display_data"
    }
   ],
   "source": [
    "print(\"Feature ranking:\")\n",
    "\n",
    "for f in range(dados_2016.shape[1]):\n",
    "    print(\"%d. feature %d (%f)\" % (f + 1, indices[f], importances[indices[f]]))\n",
    "\n",
    "plt.figure()\n",
    "plt.title(\"Feature importances\")\n",
    "plt.bar(range(dados_2016.shape[1]), importances[indices],\n",
    "       color=\"r\", yerr=std[indices], align=\"center\")\n",
    "plt.xticks(range(dados_2016.shape[1]), indices)\n",
    "plt.xlim([-1, dados_2016.shape[1]])\n",
    "plt.show()"
   ]
  },
  {
   "cell_type": "markdown",
   "metadata": {},
   "source": [
    "### Gerando Feature Importace com RandomTreesEmbedding"
   ]
  },
  {
   "cell_type": "code",
   "execution_count": 29,
   "metadata": {
    "collapsed": true
   },
   "outputs": [],
   "source": [
    "from sklearn.ensemble import RandomTreesEmbedding"
   ]
  },
  {
   "cell_type": "code",
   "execution_count": 32,
   "metadata": {},
   "outputs": [],
   "source": [
    "rte = RandomForestClassifier(n_estimators=10, random_state=0, max_depth=3)"
   ]
  },
  {
   "cell_type": "code",
   "execution_count": 34,
   "metadata": {},
   "outputs": [
    {
     "data": {
      "text/plain": [
       "RandomForestClassifier(bootstrap=True, class_weight=None, criterion='gini',\n",
       "            max_depth=3, max_features='auto', max_leaf_nodes=None,\n",
       "            min_impurity_split=1e-07, min_samples_leaf=1,\n",
       "            min_samples_split=2, min_weight_fraction_leaf=0.0,\n",
       "            n_estimators=10, n_jobs=1, oob_score=False, random_state=0,\n",
       "            verbose=0, warm_start=False)"
      ]
     },
     "execution_count": 34,
     "metadata": {},
     "output_type": "execute_result"
    }
   ],
   "source": [
    "rte.fit(dados_2016, target)"
   ]
  },
  {
   "cell_type": "code",
   "execution_count": 35,
   "metadata": {
    "collapsed": true
   },
   "outputs": [],
   "source": [
    "importances = rte.feature_importances_"
   ]
  },
  {
   "cell_type": "code",
   "execution_count": 38,
   "metadata": {
    "collapsed": true
   },
   "outputs": [],
   "source": [
    "std = np.std([rte.feature_importances_ for tree in rte.estimators_],axis=0)"
   ]
  },
  {
   "cell_type": "code",
   "execution_count": 39,
   "metadata": {
    "collapsed": true
   },
   "outputs": [],
   "source": [
    "indices = np.argsort(importances)[::-1]"
   ]
  },
  {
   "cell_type": "code",
   "execution_count": 40,
   "metadata": {},
   "outputs": [
    {
     "name": "stdout",
     "output_type": "stream",
     "text": [
      "Feature ranking:\n",
      "1. feature 23 (0.160689)\n",
      "2. feature 26 (0.154220)\n",
      "3. feature 25 (0.071386)\n",
      "4. feature 22 (0.063458)\n",
      "5. feature 21 (0.059625)\n",
      "6. feature 20 (0.058158)\n",
      "7. feature 27 (0.053235)\n",
      "8. feature 19 (0.045955)\n",
      "9. feature 0 (0.037527)\n",
      "10. feature 6 (0.035777)\n",
      "11. feature 24 (0.034704)\n",
      "12. feature 10 (0.030764)\n",
      "13. feature 9 (0.028926)\n",
      "14. feature 15 (0.024229)\n",
      "15. feature 11 (0.021034)\n",
      "16. feature 4 (0.020538)\n",
      "17. feature 17 (0.019579)\n",
      "18. feature 28 (0.019280)\n",
      "19. feature 14 (0.015396)\n",
      "20. feature 7 (0.009974)\n",
      "21. feature 1 (0.009742)\n",
      "22. feature 3 (0.008791)\n",
      "23. feature 2 (0.008524)\n",
      "24. feature 12 (0.008488)\n",
      "25. feature 13 (0.000000)\n",
      "26. feature 8 (0.000000)\n",
      "27. feature 16 (0.000000)\n",
      "28. feature 5 (0.000000)\n",
      "29. feature 18 (0.000000)\n"
     ]
    },
    {
     "data": {
      "image/png": "[encoded data removed]",
      "text/plain": [
       "<matplotlib.figure.Figure at 0x7febc2efaa90>"
      ]
     },
     "metadata": {},
     "output_type": "display_data"
    }
   ],
   "source": [
    "print(\"Feature ranking:\")\n",
    "\n",
    "for f in range(dados_2016.shape[1]):\n",
    "    print(\"%d. feature %d (%f)\" % (f + 1, indices[f], importances[indices[f]]))\n",
    "\n",
    "plt.figure()\n",
    "plt.title(\"Feature importances\")\n",
    "plt.bar(range(dados_2016.shape[1]), importances[indices],\n",
    "       color=\"r\", yerr=std[indices], align=\"center\")\n",
    "plt.xticks(range(dados_2016.shape[1]), indices)\n",
    "plt.xlim([-1, dados_2016.shape[1]])\n",
    "plt.show()"
   ]
  }
 ],
 "metadata": {
  "kernelspec": {
   "display_name": "Python 3",
   "language": "python",
   "name": "python3"
  },
  "language_info": {
   "codemirror_mode": {
    "name": "ipython",
    "version": 3
   },
   "file_extension": ".py",
   "mimetype": "text/x-python",
   "name": "python",
   "nbconvert_exporter": "python",
   "pygments_lexer": "ipython3",
   "version": "3.6.2"
  }
 },
 "nbformat": 4,
 "nbformat_minor": 2
}
