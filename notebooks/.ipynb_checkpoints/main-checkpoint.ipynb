{
 "cells": [
  {
   "cell_type": "code",
   "execution_count": 1,
   "metadata": {},
   "outputs": [],
   "source": [
    "import pandas as pd\n",
    "import numpy as np"
   ]
  },
  {
   "cell_type": "code",
   "execution_count": 170,
   "metadata": {},
   "outputs": [],
   "source": [
    "dados_2015 = pd.read_csv('../arquivos/2015.csv')\n",
    "dados_2016 = pd.read_csv('../arquivos/2016.csv')\n",
    "dados_2017 = pd.read_csv('../arquivos/2017.csv')\n",
    "dados_2018 = pd.read_csv('../arquivos/2018.csv')\n",
    "dados = pd.DataFrame()"
   ]
  },
  {
   "cell_type": "code",
   "execution_count": 171,
   "metadata": {},
   "outputs": [
    {
     "name": "stdout",
     "output_type": "stream",
     "text": [
      "Qual o seu estado civil?\n",
      "Tem filhos?\n",
      "Com quem você está morando atualmente?\n",
      "Qual meio de transporte você utiliza para chegar à universidade?\n",
      "Qual sua forma de ingresso na UFC Campus Quixadá?\n",
      "Como você tomou conhecimento do curso de sua escolha aqui na UFC de Quixadá?\n",
      "Fora da universidade, você participa de algum tipo de atividade, organização e associação?\n",
      "Assinale DOIS fatores que você acredita que o ajudarão a concluir o curso com êxito:\n",
      "Quais suas expectativas com a conclusão de seu curso?\n",
      "Curso em que você está matriculado:\n"
     ]
    }
   ],
   "source": [
    "for col_15 in dados_2015.columns:\n",
    "    for col_16 in dados_2016.columns:\n",
    "        if col_15 == col_16:\n",
    "            for col_17 in dados_2017.columns:\n",
    "                if col_16 == col_17:\n",
    "                    for col_18 in dados_2018.columns:\n",
    "                        if col_17 == col_18:\n",
    "                             print(col_18)"
   ]
  },
  {
   "cell_type": "code",
   "execution_count": 172,
   "metadata": {},
   "outputs": [
    {
     "name": "stdout",
     "output_type": "stream",
     "text": [
      "Solteiro/a                   930\n",
      "Casado/a ou União estável     25\n",
      "Separado/a ou Divorciado       4\n",
      "Viúvo/a                        1\n",
      "Name: Qual o seu estado civil?, dtype: int64\n"
     ]
    }
   ],
   "source": [
    "# praticamente todos estão solteiros\n",
    "print(pd.concat([dados_2015['Qual o seu estado civil?'], dados_2016['Qual o seu estado civil?'], dados_2017['Qual o seu estado civil?'], dados_2018['Qual o seu estado civil?']], ignore_index=True).value_counts())\n",
    "dados['estado_civil'] = pd.concat([dados_2015['Qual o seu estado civil?'], dados_2016['Qual o seu estado civil?'], dados_2017['Qual o seu estado civil?'], dados_2018['Qual o seu estado civil?']], ignore_index=True)"
   ]
  },
  {
   "cell_type": "code",
   "execution_count": 173,
   "metadata": {},
   "outputs": [
    {
     "name": "stdout",
     "output_type": "stream",
     "text": [
      "Não    930\n",
      "Sim     30\n",
      "Name: Tem filhos?, dtype: int64\n"
     ]
    }
   ],
   "source": [
    "# praticamente todos não tem filhos\n",
    "print(pd.concat([dados_2015['Tem filhos?'], dados_2016['Tem filhos?'], dados_2017['Tem filhos?'], dados_2018['Tem filhos?']], ignore_index=True).value_counts())\n",
    "dados['tem_filhos'] = pd.concat([dados_2015['Tem filhos?'], dados_2016['Tem filhos?'], dados_2017['Tem filhos?'], dados_2018['Tem filhos?']], ignore_index=True)"
   ]
  },
  {
   "cell_type": "code",
   "execution_count": 179,
   "metadata": {},
   "outputs": [],
   "source": [
    "# transformando dados\n",
    "amigos = ['colegas da faculdade', 'colegas','Outros alunos do campus.', 'Alguns colegas da universidade', 'pensão','Amigo', 'Outro universitario', 'Outros Estudantes']\n",
    "outros = ['com os donos da casa, mas é cada um por si', 'Pensão', 'Deus', 'Familia da namorada']\n",
    "parentes = ['Avó', 'Vó', 'irmão e amiga']\n",
    "familia = ['Família Nuclear (pai e/ou mãe)','Com sua esposa/marido ou companheiro/a', 'Com sua esposo/a ou companheiro/a']\n",
    "\n",
    "for row in dados_2015['Com quem você está morando atualmente?']:\n",
    "    if row in familia:\n",
    "        dados_2015.at[dados_2015['Com quem você está morando atualmente?'] == row,'Com quem você está morando atualmente?'] = 'Família'\n",
    "\n",
    "for row in dados_2016['Com quem você está morando atualmente?']:\n",
    "    if row == 'Família':\n",
    "        dados_2016.at[dados_2016['Com quem você está morando atualmente?'] == row,'Com quem você está morando atualmente?'] = 'Parentes' \n",
    "    if row == 'Família (pai, mãe, irmãos...)':\n",
    "        dados_2016.at[dados_2016['Com quem você está morando atualmente?'] == row,'Com quem você está morando atualmente?'] = 'Família'\n",
    "\n",
    "for row in dados_2017['Com quem você está morando atualmente?']:\n",
    "    if row in amigos:\n",
    "        dados_2017.at[dados_2017['Com quem você está morando atualmente?'] == row,'Com quem você está morando atualmente?'] = 'Amigos'\n",
    "    if row in outros:\n",
    "        dados_2017.at[dados_2017['Com quem você está morando atualmente?'] == row,'Com quem você está morando atualmente?'] = 'Outros'\n",
    "    if row in parentes:\n",
    "        dados_2017.at[dados_2017['Com quem você está morando atualmente?'] == row,'Com quem você está morando atualmente?'] = 'Parentes'\n",
    "    if row in familia:\n",
    "        dados_2017.at[dados_2017['Com quem você está morando atualmente?'] == row,'Com quem você está morando atualmente?'] = 'Família'\n",
    "\n",
    "for row in dados_2018['Com quem você está morando atualmente?']:\n",
    "    if row == 'Família Nuclear (pai e/ou mãe)':\n",
    "        dados_2018.at[dados_2018['Com quem você está morando atualmente?'] == row,'Com quem você está morando atualmente?'] = 'Família'\n",
    "    if row == 'Com sua esposo/a ou companheiro/a':\n",
    "        dados_2018.at[dados_2018['Com quem você está morando atualmente?'] == row,'Com quem você está morando atualmente?'] = 'Com sua esposa/marido ou companheiro/a'"
   ]
  },
  {
   "cell_type": "code",
   "execution_count": 178,
   "metadata": {},
   "outputs": [
    {
     "name": "stdout",
     "output_type": "stream",
     "text": [
      "Amigos                                    488\n",
      "Família                                   197\n",
      "Parentes                                  148\n",
      "Sozinho                                    99\n",
      "Com sua esposa/marido ou companheiro/a     15\n",
      "Outros                                     13\n",
      "Name: Com quem você está morando atualmente?, dtype: int64\n"
     ]
    }
   ],
   "source": [
    "print(pd.concat([dados_2015['Com quem você está morando atualmente?'], dados_2016['Com quem você está morando atualmente?'], dados_2017['Com quem você está morando atualmente?'], dados_2018['Com quem você está morando atualmente?']], ignore_index=True).value_counts())\n",
    "dados['morando_atualmente'] = pd.concat([dados_2015['Com quem você está morando atualmente?'], dados_2016['Com quem você está morando atualmente?'], dados_2017['Com quem você está morando atualmente?'], dados_2018['Com quem você está morando atualmente?']], ignore_index=True)"
   ]
  },
  {
   "cell_type": "code",
   "execution_count": 184,
   "metadata": {},
   "outputs": [],
   "source": [
    "# Ônibus universitário                                              \n",
    "# Transporte automotivo particular (carro, motocicleta, etc.)        \n",
    "# Transporte alternativo (táxi, mototáxi, ônibus de linha, etc.)      \n",
    "# Biclicleta                                                          \n",
    "# Outros"
   ]
  },
  {
   "cell_type": "code",
   "execution_count": 183,
   "metadata": {},
   "outputs": [
    {
     "data": {
      "text/plain": [
       "Ônibus universitário                                              213\n",
       "Transporte automotivo particular (carro, motocicleta, etc.)        14\n",
       "Transporte alternativo (táxi, mototáxi, ônibus de linha, etc.)      6\n",
       "Biclicleta                                                          3\n",
       "Outros                                                              3\n",
       "Name: Qual meio de transporte você utiliza para chegar à universidade?, dtype: int64"
      ]
     },
     "execution_count": 183,
     "metadata": {},
     "output_type": "execute_result"
    }
   ],
   "source": [
    "dados_2018['Qual meio de transporte você utiliza para chegar à universidade?'].value_counts()"
   ]
  },
  {
   "cell_type": "code",
   "execution_count": null,
   "metadata": {
    "scrolled": false
   },
   "outputs": [],
   "source": []
  },
  {
   "cell_type": "code",
   "execution_count": null,
   "metadata": {},
   "outputs": [],
   "source": []
  },
  {
   "cell_type": "code",
   "execution_count": null,
   "metadata": {},
   "outputs": [],
   "source": []
  },
  {
   "cell_type": "code",
   "execution_count": null,
   "metadata": {},
   "outputs": [],
   "source": []
  },
  {
   "cell_type": "code",
   "execution_count": null,
   "metadata": {},
   "outputs": [],
   "source": [
    "\n"
   ]
  }
 ],
 "metadata": {
  "kernelspec": {
   "display_name": "Python 3",
   "language": "python",
   "name": "python3"
  },
  "language_info": {
   "codemirror_mode": {
    "name": "ipython",
    "version": 3
   },
   "file_extension": ".py",
   "mimetype": "text/x-python",
   "name": "python",
   "nbconvert_exporter": "python",
   "pygments_lexer": "ipython3",
   "version": "3.6.5"
  }
 },
 "nbformat": 4,
 "nbformat_minor": 2
}
