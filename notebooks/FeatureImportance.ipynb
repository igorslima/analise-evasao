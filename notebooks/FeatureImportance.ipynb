{
 "cells": [
  {
   "cell_type": "code",
   "execution_count": 1,
   "metadata": {},
   "outputs": [
    {
     "name": "stdout",
     "output_type": "stream",
     "text": [
      "Importing Jupyter notebook from preprocessamento.ipynb\n"
     ]
    }
   ],
   "source": [
    "import pandas as pd\n",
    "import numpy as np\n",
    "import matplotlib.pyplot as plt\n",
    "%matplotlib inline\n",
    "import nbimporter\n",
    "from preprocessamento import *\n",
    "from preprocessamento import preprocessar\n",
    "from sklearn.tree import  export_graphviz"
   ]
  },
  {
   "cell_type": "markdown",
   "metadata": {},
   "source": [
    "### Carregamento dos dados, e preprocessamento"
   ]
  },
  {
   "cell_type": "code",
   "execution_count": 35,
   "metadata": {},
   "outputs": [],
   "source": [
    "dados_2015 = pd.read_csv('../arquivos/2015.csv')\n",
    "dados_2016 = pd.read_csv('../arquivos/2016.csv')"
   ]
  },
  {
   "cell_type": "code",
   "execution_count": 36,
   "metadata": {},
   "outputs": [],
   "source": [
    "#dados_2015"
   ]
  },
  {
   "cell_type": "code",
   "execution_count": 37,
   "metadata": {},
   "outputs": [
    {
     "data": {
      "text/plain": [
       "Index(['Indicação de data e hora', 'situacao', 'Sexo:',\n",
       "       'Com qual cor/etnia você se identifica?', 'Qual o seu estado civil?',\n",
       "       'Tem filhos?', 'Qual a renda mensal de sua família?',\n",
       "       'Com quem você está morando atualmente?', 'Você está residindo em:',\n",
       "       'Tomando como base seu local de moradia atual, qual a distância de onde reside para a universidade?',\n",
       "       'Qual meio de transporte você utiliza para chegar à universidade?',\n",
       "       'Você apresenta alguma necessidade educacional especial?',\n",
       "       'Que tipo de escola você cursou o ensino fundamental?',\n",
       "       'Que tipo de escola você cursou o ensino médio?',\n",
       "       'Qual sua forma de ingresso na UFC Campus Quixadá?',\n",
       "       'Como você tomou conhecimento do curso de sua escolha aqui na UFC de Quixadá?',\n",
       "       'Você trabalha ou exerce alguma atividade remunerada (emprego)?',\n",
       "       'Fora da universidade, você participa de algum tipo de atividade, organização e associação?',\n",
       "       'Indique o principal fator que determinou sua escolha por este curso:',\n",
       "       'Você concluiu seu curso dentro do prazo previsto?',\n",
       "       'Indique em que medida você tem afinidade com as áreas a seguir: [Linguagens, códigos e suas tecnologias.]',\n",
       "       'Indique em que medida você tem afinidade com as áreas a seguir: [Ciências humanas e suas tecnologias.]',\n",
       "       'Indique em que medida você tem afinidade com as áreas a seguir: [Matemática e suas tecnologias.]',\n",
       "       'Indique em que medida você tem afinidade com as áreas a seguir: [Ciências da natureza e suas tecnologias.]',\n",
       "       'Quantas horas diárias você dedica aos estudos fora do horário de aula?',\n",
       "       'Como você avalia sua motivação em relação ao curso que escolheu?',\n",
       "       'Indique em que medida você conhece sobre o curso de sua escolha: [As atividades e tarefas exercidas durante o curso.]',\n",
       "       'Indique em que medida você conhece sobre o curso de sua escolha: [O nível de dedicação exigido.]',\n",
       "       'Indique em que medida você conhece sobre o curso de sua escolha: [As disciplinas ofertadas.]',\n",
       "       'Indique em que medida você conhece sobre o curso de sua escolha: [As competências e habilidades requeridas.]',\n",
       "       'Indique em que medida você conhece sobre o curso de sua escolha: [As condições do mercado de trabalho (salário, empregabilidade, etc).]',\n",
       "       'De acordo com sua percepção sobre sua vida acadêmica neste início de curso, assinale os itens a seguir: [Tenho boas competências para a área de tecnologia da informação.]',\n",
       "       'De acordo com sua percepção sobre sua vida acadêmica neste início de curso, assinale os itens a seguir: [Julgo que o meu curso me permitirá me realizar profissionalmente.]',\n",
       "       'De acordo com sua percepção sobre sua vida acadêmica neste início de curso, assinale os itens a seguir: [Pretendo concluir meu curso nesta instituição.]',\n",
       "       'De acordo com sua percepção sobre sua vida acadêmica neste início de curso, assinale os itens a seguir: [Mesmo que pudesse, não mudaria de curso.]',\n",
       "       'Assinale DOIS fatores que você acredita que o ajudarão a concluir o curso com êxito:',\n",
       "       'Quais suas expectativas com a conclusão de seu curso?',\n",
       "       'O que você espera do curso que está inciando? Quais suas expectativas?',\n",
       "       'Curso em que você está matriculado:',\n",
       "       'Quais foram a primeira e a segunda opção de cursos que você escolheu no ENEM/Sisu, respectivamente?',\n",
       "       'Assinale as DUAS principais dificuldades que você percebeu influenciar a conclusão do curso:',\n",
       "       'Você já concluiu ou está cursando algum outro curso tecnológico ou de graduação? [Não.]',\n",
       "       'Dentre os cursos oferecidos pela UFC, aquele no qual você havia ingressado sempre foi a formação que você desejou realizar?'],\n",
       "      dtype='object')"
      ]
     },
     "execution_count": 37,
     "metadata": {},
     "output_type": "execute_result"
    }
   ],
   "source": [
    "dados_2015.columns"
   ]
  },
  {
   "cell_type": "code",
   "execution_count": 5,
   "metadata": {},
   "outputs": [],
   "source": [
    "df_2015 = preprocessar_todas_colunas(dados_2015)\n",
    "df_2016 = preprocessar_todas_colunas(dados_2016)\n",
    "\n",
    "frames = [df_2015, df_2016]\n",
    "\n",
    "data_frame = pd.concat(frames)"
   ]
  },
  {
   "cell_type": "code",
   "execution_count": 6,
   "metadata": {
    "scrolled": false
   },
   "outputs": [],
   "source": [
    "target_2015 = gerar_target(dados_2015)\n",
    "target_2016 = gerar_target(dados_2016)\n",
    "\n",
    "targets = [target_2015, target_2016]\n",
    "\n",
    "target = pd.concat(targets)"
   ]
  },
  {
   "cell_type": "code",
   "execution_count": 7,
   "metadata": {},
   "outputs": [
    {
     "data": {
      "text/plain": [
       "(466, 29)"
      ]
     },
     "execution_count": 7,
     "metadata": {},
     "output_type": "execute_result"
    }
   ],
   "source": [
    "data_frame.shape"
   ]
  },
  {
   "cell_type": "code",
   "execution_count": 8,
   "metadata": {},
   "outputs": [
    {
     "name": "stdout",
     "output_type": "stream",
     "text": [
      "0 - Sexo\n",
      "1 - filhos\n",
      "2 - renda\n",
      "3 - quem_você_está_morando_atualmente\n",
      "4 - estado_civil\n",
      "5 - residindo_em\n",
      "6 - distancia_ufc_casa\n",
      "7 - meio_de_transporte\n",
      "8 - apresenta_necessidade_educacional_especial\n",
      "9 - tipo_escola_ensino_fundamental\n",
      "10 - tipo_escola_ensino_medio\n",
      "11 - forma_ingresso_ufc_qxd\n",
      "12 - atividade_remunerada\n",
      "13 - participa_algum_tipo_atividade_organização_associação\n",
      "14 - afinidade_linguagens\n",
      "15 - afinidade_humanas\n",
      "16 - afinidade_matematica\n",
      "17 - afinidade_natureza\n",
      "18 - estudo_fora_sala\n",
      "19 - motivacao_curso\n",
      "20 - tarefa_durante_curso\n",
      "21 - dedicacao_exigida\n",
      "22 - disciplinas_ofertadas\n",
      "23 - competencias_habilidades_requiridas\n",
      "24 - condicoes_mercado_trabalho\n",
      "25 - competencias_area_ti\n",
      "26 - realizacao_profissional\n",
      "27 - concluir_curso_nessa_instituicao\n",
      "28 - nao_mudaria_de_curso\n"
     ]
    }
   ],
   "source": [
    "cont = 0\n",
    "for coluna in data_frame.columns:\n",
    "    print(\"{} - {}\".format(cont, coluna))\n",
    "    cont += 1"
   ]
  },
  {
   "cell_type": "markdown",
   "metadata": {},
   "source": [
    "### Gerando Feature Importace com Extra Tree Classifier"
   ]
  },
  {
   "cell_type": "code",
   "execution_count": 9,
   "metadata": {},
   "outputs": [],
   "source": [
    "from sklearn.ensemble import ExtraTreesClassifier"
   ]
  },
  {
   "cell_type": "code",
   "execution_count": 10,
   "metadata": {},
   "outputs": [],
   "source": [
    "forest = ExtraTreesClassifier()"
   ]
  },
  {
   "cell_type": "code",
   "execution_count": 11,
   "metadata": {},
   "outputs": [],
   "source": [
    "import os"
   ]
  },
  {
   "cell_type": "code",
   "execution_count": 12,
   "metadata": {},
   "outputs": [
    {
     "data": {
      "text/plain": [
       "32512"
      ]
     },
     "execution_count": 12,
     "metadata": {},
     "output_type": "execute_result"
    }
   ],
   "source": [
    "os.system('dot -Tpng tree.dot -o tree.png')"
   ]
  },
  {
   "cell_type": "code",
   "execution_count": 13,
   "metadata": {},
   "outputs": [
    {
     "name": "stderr",
     "output_type": "stream",
     "text": [
      "/home/igor/anaconda3/lib/python3.6/site-packages/ipykernel_launcher.py:1: DataConversionWarning: A column-vector y was passed when a 1d array was expected. Please change the shape of y to (n_samples,), for example using ravel().\n",
      "  \"\"\"Entry point for launching an IPython kernel.\n"
     ]
    },
    {
     "data": {
      "text/plain": [
       "ExtraTreesClassifier(bootstrap=False, class_weight=None, criterion='gini',\n",
       "           max_depth=None, max_features='auto', max_leaf_nodes=None,\n",
       "           min_impurity_decrease=0.0, min_impurity_split=None,\n",
       "           min_samples_leaf=1, min_samples_split=2,\n",
       "           min_weight_fraction_leaf=0.0, n_estimators=10, n_jobs=1,\n",
       "           oob_score=False, random_state=None, verbose=0, warm_start=False)"
      ]
     },
     "execution_count": 13,
     "metadata": {},
     "output_type": "execute_result"
    }
   ],
   "source": [
    "forest.fit(data_frame, target)"
   ]
  },
  {
   "cell_type": "code",
   "execution_count": 14,
   "metadata": {},
   "outputs": [],
   "source": [
    "importances_clf = forest.feature_importances_"
   ]
  },
  {
   "cell_type": "code",
   "execution_count": 15,
   "metadata": {},
   "outputs": [],
   "source": [
    "std_clf = np.std([forest.feature_importances_ for tree in forest.estimators_],axis=0)"
   ]
  },
  {
   "cell_type": "code",
   "execution_count": 16,
   "metadata": {},
   "outputs": [],
   "source": [
    "indices_clf = np.argsort(importances_clf)[::-1]"
   ]
  },
  {
   "cell_type": "code",
   "execution_count": 17,
   "metadata": {},
   "outputs": [
    {
     "name": "stdout",
     "output_type": "stream",
     "text": [
      "Feature ranking:\n",
      "1. feature 27 (0.071680)\n",
      "2. feature 2 (0.064216)\n",
      "3. feature 19 (0.056024)\n",
      "4. feature 26 (0.055795)\n",
      "5. feature 21 (0.047686)\n",
      "6. feature 11 (0.046775)\n",
      "7. feature 23 (0.043617)\n",
      "8. feature 16 (0.042867)\n",
      "9. feature 20 (0.040677)\n",
      "10. feature 10 (0.038533)\n",
      "11. feature 18 (0.037311)\n",
      "12. feature 28 (0.037137)\n",
      "13. feature 7 (0.036257)\n",
      "14. feature 25 (0.036181)\n",
      "15. feature 3 (0.035646)\n",
      "16. feature 13 (0.033798)\n",
      "17. feature 24 (0.032977)\n",
      "18. feature 14 (0.031367)\n",
      "19. feature 6 (0.031337)\n",
      "20. feature 15 (0.031199)\n",
      "21. feature 17 (0.030155)\n",
      "22. feature 9 (0.029021)\n",
      "23. feature 22 (0.026792)\n",
      "24. feature 0 (0.021422)\n",
      "25. feature 4 (0.012413)\n",
      "26. feature 12 (0.009635)\n",
      "27. feature 8 (0.009154)\n",
      "28. feature 1 (0.008801)\n",
      "29. feature 5 (0.001528)\n"
     ]
    },
    {
     "data": {
      "image/png": "[encoded data removed]",
      "text/plain": [
       "<Figure size 432x288 with 1 Axes>"
      ]
     },
     "metadata": {},
     "output_type": "display_data"
    }
   ],
   "source": [
    "print(\"Feature ranking:\")\n",
    "\n",
    "for f in range(data_frame.shape[1]):\n",
    "    print(\"%d. feature %d (%f)\" % (f + 1, indices_clf[f], importances_clf[indices_clf[f]]))\n",
    "    \n",
    "plt.figure()\n",
    "plt.title(\"Feature importances\")\n",
    "plt.bar(range(data_frame.shape[1]), importances_clf[indices_clf],\n",
    "       color=\"r\", yerr=std_clf[indices_clf], align=\"center\")\n",
    "plt.xticks(range(data_frame.shape[1]), indices_clf)\n",
    "plt.xlim([-1, data_frame.shape[1]])\n",
    "plt.show()\n",
    "# \"\"\"\n",
    "# print(\"Feature ranking:\")\n",
    "\n",
    "# for f in range(dados_2016.shape[1]):\n",
    "#     print(\"%d. feature %d (%f)\" % (f + 1, indices_clf[f], importances_clf[indices_clf[f]]))\n",
    "\n",
    "# plt.figure()\n",
    "# plt.title(\"Feature importances\")\n",
    "# plt.bar(range(dados_2016.shape[1]), importances_clf[indices_clf],\n",
    "#        color=\"r\", yerr=std_clf[indices_clf], align=\"center\")\n",
    "# plt.xticks(range(dados_2016.shape[1]), indices_clf)\n",
    "# plt.xlim([-1, dados_2016.shape[1]])\n",
    "# plt.show()\n",
    "# \"\"\""
   ]
  },
  {
   "cell_type": "code",
   "execution_count": 18,
   "metadata": {},
   "outputs": [
    {
     "name": "stderr",
     "output_type": "stream",
     "text": [
      "/home/igor/anaconda3/lib/python3.6/site-packages/sklearn/tree/export.py:399: DeprecationWarning: out_file can be set to None starting from 0.18. This will be the default in 0.20.\n",
      "  DeprecationWarning)\n"
     ]
    }
   ],
   "source": [
    "export_graphviz(forest.estimators_[0], feature_names=data_frame.columns, filled=True, rounded=True, max_depth=3, class_names=['evadido', 'ativo'])"
   ]
  },
  {
   "cell_type": "markdown",
   "metadata": {},
   "source": [
    "### Gerando Feature Importace com RandomForest"
   ]
  },
  {
   "cell_type": "code",
   "execution_count": 19,
   "metadata": {},
   "outputs": [],
   "source": [
    "from sklearn.ensemble import RandomForestClassifier"
   ]
  },
  {
   "cell_type": "code",
   "execution_count": 20,
   "metadata": {},
   "outputs": [],
   "source": [
    "clf = RandomForestClassifier(max_depth=10, random_state=0)"
   ]
  },
  {
   "cell_type": "code",
   "execution_count": 21,
   "metadata": {},
   "outputs": [
    {
     "name": "stderr",
     "output_type": "stream",
     "text": [
      "/home/igor/anaconda3/lib/python3.6/site-packages/ipykernel_launcher.py:1: DataConversionWarning: A column-vector y was passed when a 1d array was expected. Please change the shape of y to (n_samples,), for example using ravel().\n",
      "  \"\"\"Entry point for launching an IPython kernel.\n"
     ]
    },
    {
     "data": {
      "text/plain": [
       "RandomForestClassifier(bootstrap=True, class_weight=None, criterion='gini',\n",
       "            max_depth=10, max_features='auto', max_leaf_nodes=None,\n",
       "            min_impurity_decrease=0.0, min_impurity_split=None,\n",
       "            min_samples_leaf=1, min_samples_split=2,\n",
       "            min_weight_fraction_leaf=0.0, n_estimators=10, n_jobs=1,\n",
       "            oob_score=False, random_state=0, verbose=0, warm_start=False)"
      ]
     },
     "execution_count": 21,
     "metadata": {},
     "output_type": "execute_result"
    }
   ],
   "source": [
    "clf.fit(data_frame, target)"
   ]
  },
  {
   "cell_type": "code",
   "execution_count": 22,
   "metadata": {},
   "outputs": [],
   "source": [
    "importances_rf = clf.feature_importances_"
   ]
  },
  {
   "cell_type": "code",
   "execution_count": 23,
   "metadata": {},
   "outputs": [],
   "source": [
    "std_rf = np.std([clf.feature_importances_ for tree in clf.estimators_],axis=0)"
   ]
  },
  {
   "cell_type": "code",
   "execution_count": 24,
   "metadata": {},
   "outputs": [],
   "source": [
    "indices_rf = np.argsort(importances_rf)[::-1]"
   ]
  },
  {
   "cell_type": "code",
   "execution_count": 38,
   "metadata": {},
   "outputs": [
    {
     "name": "stdout",
     "output_type": "stream",
     "text": [
      "0 - Sexo\n",
      "1 - filhos\n",
      "2 - renda\n",
      "3 - quem_você_está_morando_atualmente\n",
      "4 - estado_civil\n",
      "5 - residindo_em\n",
      "6 - distancia_ufc_casa\n",
      "7 - meio_de_transporte\n",
      "8 - apresenta_necessidade_educacional_especial\n",
      "9 - tipo_escola_ensino_fundamental\n",
      "10 - tipo_escola_ensino_medio\n",
      "11 - forma_ingresso_ufc_qxd\n",
      "12 - atividade_remunerada\n",
      "13 - participa_algum_tipo_atividade_organização_associação\n",
      "14 - afinidade_linguagens\n",
      "15 - afinidade_humanas\n",
      "16 - afinidade_matematica\n",
      "17 - afinidade_natureza\n",
      "18 - estudo_fora_sala\n",
      "19 - motivacao_curso\n",
      "20 - tarefa_durante_curso\n",
      "21 - dedicacao_exigida\n",
      "22 - disciplinas_ofertadas\n",
      "23 - competencias_habilidades_requiridas\n",
      "24 - condicoes_mercado_trabalho\n",
      "25 - competencias_area_ti\n",
      "26 - realizacao_profissional\n",
      "27 - concluir_curso_nessa_instituicao\n",
      "28 - nao_mudaria_de_curso\n"
     ]
    }
   ],
   "source": [
    "cont = 0\n",
    "for coluna in data_frame.columns:\n",
    "    print(\"{} - {}\".format(cont, coluna))\n",
    "    cont += 1"
   ]
  },
  {
   "cell_type": "code",
   "execution_count": 25,
   "metadata": {
    "scrolled": false
   },
   "outputs": [
    {
     "name": "stdout",
     "output_type": "stream",
     "text": [
      "Feature ranking:\n",
      "1. feature 2 (0.074626)\n",
      "2. feature 26 (0.069513)\n",
      "3. feature 19 (0.065344)\n",
      "4. feature 27 (0.064696)\n",
      "5. feature 20 (0.051577)\n",
      "6. feature 7 (0.050413)\n",
      "7. feature 9 (0.044338)\n",
      "8. feature 28 (0.041993)\n",
      "9. feature 6 (0.040700)\n",
      "10. feature 15 (0.040179)\n",
      "11. feature 18 (0.040026)\n",
      "12. feature 17 (0.039435)\n",
      "13. feature 23 (0.039268)\n",
      "14. feature 14 (0.036971)\n",
      "15. feature 21 (0.034563)\n",
      "16. feature 24 (0.033539)\n",
      "17. feature 22 (0.033231)\n",
      "18. feature 16 (0.032137)\n",
      "19. feature 11 (0.030902)\n",
      "20. feature 10 (0.028873)\n",
      "21. feature 0 (0.020942)\n",
      "22. feature 3 (0.019872)\n",
      "23. feature 13 (0.018881)\n",
      "24. feature 25 (0.018353)\n",
      "25. feature 12 (0.011058)\n",
      "26. feature 5 (0.006427)\n",
      "27. feature 1 (0.005489)\n",
      "28. feature 4 (0.005031)\n",
      "29. feature 8 (0.001623)\n"
     ]
    },
    {
     "data": {
      "image/png": "[encoded data removed]",
      "text/plain": [
       "<Figure size 432x288 with 1 Axes>"
      ]
     },
     "metadata": {},
     "output_type": "display_data"
    }
   ],
   "source": [
    "print(\"Feature ranking:\")\n",
    "\n",
    "for f in range(data_frame.shape[1]):\n",
    "    print(\"%d. feature %d (%f)\" % (f + 1, indices_rf[f], importances_rf[indices_rf[f]]))\n",
    "\n",
    "plt.figure()\n",
    "plt.title(\"Feature importances\")\n",
    "plt.bar(range(data_frame.shape[1]), importances_rf[indices_rf],\n",
    "       color=\"r\", yerr=std_rf[indices_rf], align=\"center\")\n",
    "plt.xticks(range(data_frame.shape[1]), indices_rf)\n",
    "plt.xlim([-1, data_frame.shape[1]])\n",
    "plt.show()"
   ]
  },
  {
   "cell_type": "markdown",
   "metadata": {},
   "source": [
    "### Gerando Feature Importace com RandomTreesEmbedding"
   ]
  },
  {
   "cell_type": "code",
   "execution_count": 26,
   "metadata": {},
   "outputs": [],
   "source": [
    "from sklearn.ensemble import RandomTreesEmbedding"
   ]
  },
  {
   "cell_type": "code",
   "execution_count": 27,
   "metadata": {},
   "outputs": [],
   "source": [
    "rte = RandomForestClassifier(n_estimators=10, random_state=0, max_depth=3)"
   ]
  },
  {
   "cell_type": "code",
   "execution_count": 28,
   "metadata": {},
   "outputs": [
    {
     "name": "stderr",
     "output_type": "stream",
     "text": [
      "/home/igor/anaconda3/lib/python3.6/site-packages/ipykernel_launcher.py:1: DataConversionWarning: A column-vector y was passed when a 1d array was expected. Please change the shape of y to (n_samples,), for example using ravel().\n",
      "  \"\"\"Entry point for launching an IPython kernel.\n"
     ]
    },
    {
     "data": {
      "text/plain": [
       "RandomForestClassifier(bootstrap=True, class_weight=None, criterion='gini',\n",
       "            max_depth=3, max_features='auto', max_leaf_nodes=None,\n",
       "            min_impurity_decrease=0.0, min_impurity_split=None,\n",
       "            min_samples_leaf=1, min_samples_split=2,\n",
       "            min_weight_fraction_leaf=0.0, n_estimators=10, n_jobs=1,\n",
       "            oob_score=False, random_state=0, verbose=0, warm_start=False)"
      ]
     },
     "execution_count": 28,
     "metadata": {},
     "output_type": "execute_result"
    }
   ],
   "source": [
    "rte.fit(data_frame, target)"
   ]
  },
  {
   "cell_type": "code",
   "execution_count": 29,
   "metadata": {},
   "outputs": [],
   "source": [
    "importances = rte.feature_importances_"
   ]
  },
  {
   "cell_type": "code",
   "execution_count": 30,
   "metadata": {},
   "outputs": [],
   "source": [
    "std = np.std([rte.feature_importances_ for tree in rte.estimators_],axis=0)"
   ]
  },
  {
   "cell_type": "code",
   "execution_count": 31,
   "metadata": {},
   "outputs": [
    {
     "name": "stdout",
     "output_type": "stream",
     "text": [
      "[0.00000000e+00 0.00000000e+00 0.00000000e+00 0.00000000e+00\n",
      " 0.00000000e+00 2.16840434e-19 6.93889390e-18 2.77555756e-17\n",
      " 0.00000000e+00 0.00000000e+00 6.93889390e-18 4.33680869e-19\n",
      " 0.00000000e+00 0.00000000e+00 0.00000000e+00 3.46944695e-18\n",
      " 0.00000000e+00 0.00000000e+00 6.93889390e-18 2.77555756e-17\n",
      " 3.46944695e-18 1.73472348e-18 1.73472348e-18 1.73472348e-18\n",
      " 0.00000000e+00 0.00000000e+00 0.00000000e+00 2.77555756e-17\n",
      " 6.93889390e-18]\n"
     ]
    }
   ],
   "source": [
    "print(std)"
   ]
  },
  {
   "cell_type": "code",
   "execution_count": 32,
   "metadata": {},
   "outputs": [],
   "source": [
    "indices = np.argsort(importances)[::-1]"
   ]
  },
  {
   "cell_type": "code",
   "execution_count": 33,
   "metadata": {},
   "outputs": [
    {
     "name": "stdout",
     "output_type": "stream",
     "text": [
      "Feature ranking:\n",
      "1. feature 27 (0.143153)\n",
      "2. feature 19 (0.140630)\n",
      "3. feature 7 (0.133873)\n",
      "4. feature 26 (0.120132)\n",
      "5. feature 2 (0.059123)\n",
      "6. feature 14 (0.056867)\n",
      "7. feature 18 (0.053002)\n",
      "8. feature 10 (0.046809)\n",
      "9. feature 17 (0.046128)\n",
      "10. feature 28 (0.038924)\n",
      "11. feature 6 (0.033117)\n",
      "12. feature 24 (0.025282)\n",
      "13. feature 15 (0.022221)\n",
      "14. feature 25 (0.021347)\n",
      "15. feature 20 (0.018964)\n",
      "16. feature 23 (0.011049)\n",
      "17. feature 21 (0.009885)\n",
      "18. feature 22 (0.009728)\n",
      "19. feature 11 (0.003812)\n",
      "20. feature 3 (0.003196)\n",
      "21. feature 13 (0.001426)\n",
      "22. feature 5 (0.001332)\n",
      "23. feature 4 (0.000000)\n",
      "24. feature 1 (0.000000)\n",
      "25. feature 9 (0.000000)\n",
      "26. feature 8 (0.000000)\n",
      "27. feature 12 (0.000000)\n",
      "28. feature 16 (0.000000)\n",
      "29. feature 0 (0.000000)\n"
     ]
    },
    {
     "data": {
      "image/png": "[encoded data removed]",
      "text/plain": [
       "<Figure size 432x288 with 1 Axes>"
      ]
     },
     "metadata": {},
     "output_type": "display_data"
    }
   ],
   "source": [
    "print(\"Feature ranking:\")\n",
    "\n",
    "for f in range(data_frame.shape[1]):\n",
    "    print(\"%d. feature %d (%f)\" % (f + 1, indices[f], importances[indices[f]]))\n",
    "\n",
    "plt.figure()\n",
    "plt.title(\"Feature importances\")\n",
    "plt.bar(range(data_frame.shape[1]), importances[indices],\n",
    "       color=\"r\", yerr=std[indices], align=\"center\")\n",
    "plt.xticks(range(data_frame.shape[1]), indices)\n",
    "plt.xlim([-1, data_frame.shape[1]])\n",
    "plt.show()"
   ]
  },
  {
   "cell_type": "code",
   "execution_count": 34,
   "metadata": {},
   "outputs": [
    {
     "name": "stdout",
     "output_type": "stream",
     "text": [
      "0 - Sexo\n",
      "1 - filhos\n",
      "2 - renda\n",
      "3 - quem_você_está_morando_atualmente\n",
      "4 - estado_civil\n",
      "5 - residindo_em\n",
      "6 - distancia_ufc_casa\n",
      "7 - meio_de_transporte\n",
      "8 - apresenta_necessidade_educacional_especial\n",
      "9 - tipo_escola_ensino_fundamental\n",
      "10 - tipo_escola_ensino_medio\n",
      "11 - forma_ingresso_ufc_qxd\n",
      "12 - atividade_remunerada\n",
      "13 - participa_algum_tipo_atividade_organização_associação\n",
      "14 - afinidade_linguagens\n",
      "15 - afinidade_humanas\n",
      "16 - afinidade_matematica\n",
      "17 - afinidade_natureza\n",
      "18 - estudo_fora_sala\n",
      "19 - motivacao_curso\n",
      "20 - tarefa_durante_curso\n",
      "21 - dedicacao_exigida\n",
      "22 - disciplinas_ofertadas\n",
      "23 - competencias_habilidades_requiridas\n",
      "24 - condicoes_mercado_trabalho\n",
      "25 - competencias_area_ti\n",
      "26 - realizacao_profissional\n",
      "27 - concluir_curso_nessa_instituicao\n",
      "28 - nao_mudaria_de_curso\n"
     ]
    }
   ],
   "source": [
    "cont = 0\n",
    "for coluna in data_frame.columns:\n",
    "    print(\"{} - {}\".format(cont, coluna))\n",
    "    cont += 1"
   ]
  }
 ],
 "metadata": {
  "kernelspec": {
   "display_name": "Python 3",
   "language": "python",
   "name": "python3"
  },
  "language_info": {
   "codemirror_mode": {
    "name": "ipython",
    "version": 3
   },
   "file_extension": ".py",
   "mimetype": "text/x-python",
   "name": "python",
   "nbconvert_exporter": "python",
   "pygments_lexer": "ipython3",
   "version": "3.6.5"
  }
 },
 "nbformat": 4,
 "nbformat_minor": 2
}
