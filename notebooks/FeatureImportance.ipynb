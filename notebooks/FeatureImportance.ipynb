{
 "cells": [
  {
   "cell_type": "code",
   "execution_count": 1,
   "metadata": {},
   "outputs": [
    {
     "name": "stdout",
     "output_type": "stream",
     "text": [
      "Importing Jupyter notebook from preprocessamento.ipynb\n"
     ]
    }
   ],
   "source": [
    "import pandas as pd\n",
    "import numpy as np\n",
    "import matplotlib.pyplot as plt\n",
    "%matplotlib inline\n",
    "import nbimporter\n",
    "from preprocessamento import gerar_target\n",
    "from preprocessamento import preprocessar\n",
    "from sklearn.tree import  export_graphviz"
   ]
  },
  {
   "cell_type": "markdown",
   "metadata": {},
   "source": [
    "### Carregamento dos dados, e preprocessamento"
   ]
  },
  {
   "cell_type": "code",
   "execution_count": 2,
   "metadata": {
    "collapsed": true
   },
   "outputs": [],
   "source": [
    "data_2016 = pd.read_csv('respostas_2016.csv')"
   ]
  },
  {
   "cell_type": "code",
   "execution_count": 3,
   "metadata": {
    "collapsed": true
   },
   "outputs": [],
   "source": [
    "dados_2016 = preprocessar(data_2016)"
   ]
  },
  {
   "cell_type": "code",
   "execution_count": 4,
   "metadata": {
    "collapsed": true
   },
   "outputs": [],
   "source": [
    "target = gerar_target(data_2016)"
   ]
  },
  {
   "cell_type": "code",
   "execution_count": 5,
   "metadata": {},
   "outputs": [
    {
     "data": {
      "text/plain": [
       "(237, 21)"
      ]
     },
     "execution_count": 5,
     "metadata": {},
     "output_type": "execute_result"
    }
   ],
   "source": [
    "dados_2016.shape"
   ]
  },
  {
   "cell_type": "code",
   "execution_count": 6,
   "metadata": {},
   "outputs": [
    {
     "name": "stdout",
     "output_type": "stream",
     "text": [
      "0 - Sexo\n",
      "1 - filhos\n",
      "2 - renda\n",
      "3 - distancia_ufc_casa\n",
      "4 - apresenta_necessidade_educacional_especial\n",
      "5 - atividade_remunerada\n",
      "6 - afinidade_linguagens\n",
      "7 - afinidade_humanas\n",
      "8 - afinidade_matematica\n",
      "9 - afinidade_natureza\n",
      "10 - estudo_fora_sala\n",
      "11 - motivacao_curso\n",
      "12 - tarefa_durante_curso\n",
      "13 - dedicacao_exigida\n",
      "14 - disciplinas_ofertadas\n",
      "15 - competencias_habilidades_requiridas\n",
      "16 - condicoes_mercado_trabalho\n",
      "17 - competencias_area_ti\n",
      "18 - realizacao_profissional\n",
      "19 - concluir_curso_nessa_instituicao\n",
      "20 - nao_mudaria_de_curso\n"
     ]
    }
   ],
   "source": [
    "cont = 0\n",
    "for coluna in dados_2016.columns:\n",
    "    print(\"{} - {}\".format(cont, coluna))\n",
    "    cont += 1"
   ]
  },
  {
   "cell_type": "markdown",
   "metadata": {},
   "source": [
    "### Gerando Feature Importace com Extra Tree Classifier"
   ]
  },
  {
   "cell_type": "code",
   "execution_count": 19,
   "metadata": {
    "collapsed": true
   },
   "outputs": [],
   "source": [
    "from sklearn.ensemble import ExtraTreesClassifier"
   ]
  },
  {
   "cell_type": "code",
   "execution_count": 20,
   "metadata": {
    "collapsed": true
   },
   "outputs": [],
   "source": [
    "forest = ExtraTreesClassifier()"
   ]
  },
  {
   "cell_type": "code",
   "execution_count": 13,
   "metadata": {
    "collapsed": true
   },
   "outputs": [],
   "source": [
    "import os"
   ]
  },
  {
   "cell_type": "code",
   "execution_count": 14,
   "metadata": {},
   "outputs": [
    {
     "data": {
      "text/plain": [
       "0"
      ]
     },
     "execution_count": 14,
     "metadata": {},
     "output_type": "execute_result"
    }
   ],
   "source": [
    "os.system('dot -Tpng tree.dot -o tree.png')"
   ]
  },
  {
   "cell_type": "code",
   "execution_count": 32,
   "metadata": {},
   "outputs": [
    {
     "data": {
      "text/plain": [
       "ExtraTreesClassifier(bootstrap=False, class_weight=None, criterion='gini',\n",
       "           max_depth=None, max_features='auto', max_leaf_nodes=None,\n",
       "           min_impurity_split=1e-07, min_samples_leaf=1,\n",
       "           min_samples_split=2, min_weight_fraction_leaf=0.0,\n",
       "           n_estimators=10, n_jobs=1, oob_score=False, random_state=None,\n",
       "           verbose=0, warm_start=False)"
      ]
     },
     "execution_count": 32,
     "metadata": {},
     "output_type": "execute_result"
    }
   ],
   "source": [
    "forest.fit(dados_2016, target)"
   ]
  },
  {
   "cell_type": "code",
   "execution_count": 33,
   "metadata": {
    "collapsed": true
   },
   "outputs": [],
   "source": [
    "importances_clf = forest.feature_importances_"
   ]
  },
  {
   "cell_type": "code",
   "execution_count": 34,
   "metadata": {
    "collapsed": true
   },
   "outputs": [],
   "source": [
    "std_clf = np.std([forest.feature_importances_ for tree in forest.estimators_],axis=0)"
   ]
  },
  {
   "cell_type": "code",
   "execution_count": 35,
   "metadata": {},
   "outputs": [],
   "source": [
    "indices_clf = np.argsort(importances_clf)[::-1]"
   ]
  },
  {
   "cell_type": "code",
   "execution_count": 36,
   "metadata": {},
   "outputs": [
    {
     "name": "stdout",
     "output_type": "stream",
     "text": [
      "Feature ranking:\n",
      "1. feature 20 (0.062846)\n",
      "2. feature 10 (0.060748)\n",
      "3. feature 13 (0.059157)\n",
      "4. feature 6 (0.059131)\n",
      "5. feature 15 (0.057546)\n",
      "6. feature 16 (0.057420)\n",
      "7. feature 9 (0.057041)\n",
      "8. feature 14 (0.057021)\n",
      "9. feature 7 (0.055402)\n",
      "10. feature 2 (0.055174)\n",
      "11. feature 12 (0.054015)\n",
      "12. feature 8 (0.051990)\n",
      "13. feature 18 (0.051520)\n",
      "14. feature 3 (0.050706)\n",
      "15. feature 17 (0.050428)\n",
      "16. feature 19 (0.046921)\n",
      "17. feature 11 (0.040724)\n",
      "18. feature 0 (0.033053)\n",
      "19. feature 5 (0.021959)\n",
      "20. feature 4 (0.009063)\n",
      "21. feature 1 (0.008134)\n"
     ]
    },
    {
     "data": {
      "image/png": "[encoded data removed]",
      "text/plain": [
       "<matplotlib.figure.Figure at 0x7f172779cb70>"
      ]
     },
     "metadata": {},
     "output_type": "display_data"
    },
    {
     "data": {
      "text/plain": [
       "'\\nprint(\"Feature ranking:\")\\n\\nfor f in range(dados_2016.shape[1]):\\n    print(\"%d. feature %d (%f)\" % (f + 1, indices_clf[f], importances_clf[indices_clf[f]]))\\n\\nplt.figure()\\nplt.title(\"Feature importances\")\\nplt.bar(range(dados_2016.shape[1]), importances_clf[indices_clf],\\n       color=\"r\", yerr=std_clf[indices_clf], align=\"center\")\\nplt.xticks(range(dados_2016.shape[1]), indices_clf)\\nplt.xlim([-1, dados_2016.shape[1]])\\nplt.show()\\n'"
      ]
     },
     "execution_count": 36,
     "metadata": {},
     "output_type": "execute_result"
    }
   ],
   "source": [
    "print(\"Feature ranking:\")\n",
    "\n",
    "for f in range(dados_2016.shape[1]):\n",
    "    print(\"%d. feature %d (%f)\" % (f + 1, indices_clf[f], importances_clf[indices_clf[f]]))\n",
    "    \n",
    "plt.figure()\n",
    "plt.title(\"Feature importances\")\n",
    "plt.bar(range(dados_2016.shape[1]), importances_clf[indices_clf],\n",
    "       color=\"r\", yerr=std_clf[indices_clf], align=\"center\")\n",
    "plt.xticks(range(dados_2016.shape[1]), indices_clf)\n",
    "plt.xlim([-1, dados_2016.shape[1]])\n",
    "plt.show()\n",
    "\"\"\"\n",
    "print(\"Feature ranking:\")\n",
    "\n",
    "for f in range(dados_2016.shape[1]):\n",
    "    print(\"%d. feature %d (%f)\" % (f + 1, indices_clf[f], importances_clf[indices_clf[f]]))\n",
    "\n",
    "plt.figure()\n",
    "plt.title(\"Feature importances\")\n",
    "plt.bar(range(dados_2016.shape[1]), importances_clf[indices_clf],\n",
    "       color=\"r\", yerr=std_clf[indices_clf], align=\"center\")\n",
    "plt.xticks(range(dados_2016.shape[1]), indices_clf)\n",
    "plt.xlim([-1, dados_2016.shape[1]])\n",
    "plt.show()\n",
    "\"\"\""
   ]
  },
  {
   "cell_type": "code",
   "execution_count": 30,
   "metadata": {},
   "outputs": [
    {
     "name": "stderr",
     "output_type": "stream",
     "text": [
      "/home/igor/miniconda3/lib/python3.6/site-packages/sklearn/tree/export.py:386: DeprecationWarning: out_file can be set to None starting from 0.18. This will be the default in 0.20.\n",
      "  DeprecationWarning)\n"
     ]
    }
   ],
   "source": [
    "export_graphviz(forest.estimators_[0], feature_names=dados_2016.columns, filled=True, rounded=True, max_depth=3, class_names=['evadido', 'ativo'])"
   ]
  },
  {
   "cell_type": "markdown",
   "metadata": {},
   "source": [
    "### Gerando Feature Importace com RamdomForest"
   ]
  },
  {
   "cell_type": "code",
   "execution_count": 7,
   "metadata": {
    "collapsed": true
   },
   "outputs": [],
   "source": [
    "from sklearn.ensemble import RandomForestClassifier"
   ]
  },
  {
   "cell_type": "code",
   "execution_count": 8,
   "metadata": {},
   "outputs": [],
   "source": [
    "clf = RandomForestClassifier(max_depth=10, random_state=0)"
   ]
  },
  {
   "cell_type": "code",
   "execution_count": 9,
   "metadata": {},
   "outputs": [
    {
     "data": {
      "text/plain": [
       "RandomForestClassifier(bootstrap=True, class_weight=None, criterion='gini',\n",
       "            max_depth=10, max_features='auto', max_leaf_nodes=None,\n",
       "            min_impurity_split=1e-07, min_samples_leaf=1,\n",
       "            min_samples_split=2, min_weight_fraction_leaf=0.0,\n",
       "            n_estimators=10, n_jobs=1, oob_score=False, random_state=0,\n",
       "            verbose=0, warm_start=False)"
      ]
     },
     "execution_count": 9,
     "metadata": {},
     "output_type": "execute_result"
    }
   ],
   "source": [
    "clf.fit(dados_2016, target)"
   ]
  },
  {
   "cell_type": "code",
   "execution_count": 10,
   "metadata": {
    "collapsed": true
   },
   "outputs": [],
   "source": [
    "importances_rf = clf.feature_importances_"
   ]
  },
  {
   "cell_type": "code",
   "execution_count": 37,
   "metadata": {
    "collapsed": true
   },
   "outputs": [],
   "source": [
    "std_rf = np.std([clf.feature_importances_ for tree in clf.estimators_],axis=0)"
   ]
  },
  {
   "cell_type": "code",
   "execution_count": 38,
   "metadata": {},
   "outputs": [],
   "source": [
    "indices_rf = np.argsort(importances_rf)[::-1]"
   ]
  },
  {
   "cell_type": "code",
   "execution_count": 39,
   "metadata": {
    "scrolled": false
   },
   "outputs": [
    {
     "name": "stdout",
     "output_type": "stream",
     "text": [
      "Feature ranking:\n",
      "1. feature 10 (0.066436)\n",
      "2. feature 2 (0.064857)\n",
      "3. feature 14 (0.064474)\n",
      "4. feature 20 (0.063334)\n",
      "5. feature 13 (0.061512)\n",
      "6. feature 8 (0.059438)\n",
      "7. feature 9 (0.058572)\n",
      "8. feature 17 (0.055912)\n",
      "9. feature 18 (0.055096)\n",
      "10. feature 16 (0.054997)\n",
      "11. feature 6 (0.052795)\n",
      "12. feature 12 (0.052614)\n",
      "13. feature 3 (0.050642)\n",
      "14. feature 19 (0.049622)\n",
      "15. feature 11 (0.047262)\n",
      "16. feature 7 (0.043457)\n",
      "17. feature 15 (0.032895)\n",
      "18. feature 0 (0.028441)\n",
      "19. feature 5 (0.016960)\n",
      "20. feature 4 (0.010898)\n",
      "21. feature 1 (0.009786)\n"
     ]
    },
    {
     "data": {
      "image/png": "[encoded data removed]",
      "text/plain": [
       "<matplotlib.figure.Figure at 0x7f1727abfcc0>"
      ]
     },
     "metadata": {},
     "output_type": "display_data"
    }
   ],
   "source": [
    "print(\"Feature ranking:\")\n",
    "\n",
    "for f in range(dados_2016.shape[1]):\n",
    "    print(\"%d. feature %d (%f)\" % (f + 1, indices_rf[f], importances_rf[indices_rf[f]]))\n",
    "\n",
    "plt.figure()\n",
    "plt.title(\"Feature importances\")\n",
    "plt.bar(range(dados_2016.shape[1]), importances_rf[indices_rf],\n",
    "       color=\"r\", yerr=std_rf[indices_rf], align=\"center\")\n",
    "plt.xticks(range(dados_2016.shape[1]), indices_rf)\n",
    "plt.xlim([-1, dados_2016.shape[1]])\n",
    "plt.show()"
   ]
  },
  {
   "cell_type": "markdown",
   "metadata": {},
   "source": [
    "### Gerando Feature Importace com RandomTreesEmbedding"
   ]
  },
  {
   "cell_type": "code",
   "execution_count": 21,
   "metadata": {
    "collapsed": true
   },
   "outputs": [],
   "source": [
    "from sklearn.ensemble import RandomTreesEmbedding"
   ]
  },
  {
   "cell_type": "code",
   "execution_count": 22,
   "metadata": {
    "collapsed": true
   },
   "outputs": [],
   "source": [
    "rte = RandomForestClassifier(n_estimators=10, random_state=0, max_depth=3)"
   ]
  },
  {
   "cell_type": "code",
   "execution_count": 23,
   "metadata": {},
   "outputs": [
    {
     "data": {
      "text/plain": [
       "RandomForestClassifier(bootstrap=True, class_weight=None, criterion='gini',\n",
       "            max_depth=3, max_features='auto', max_leaf_nodes=None,\n",
       "            min_impurity_split=1e-07, min_samples_leaf=1,\n",
       "            min_samples_split=2, min_weight_fraction_leaf=0.0,\n",
       "            n_estimators=10, n_jobs=1, oob_score=False, random_state=0,\n",
       "            verbose=0, warm_start=False)"
      ]
     },
     "execution_count": 23,
     "metadata": {},
     "output_type": "execute_result"
    }
   ],
   "source": [
    "rte.fit(dados_2016, target)"
   ]
  },
  {
   "cell_type": "code",
   "execution_count": 24,
   "metadata": {
    "collapsed": true
   },
   "outputs": [],
   "source": [
    "importances = rte.feature_importances_"
   ]
  },
  {
   "cell_type": "code",
   "execution_count": 25,
   "metadata": {
    "collapsed": true
   },
   "outputs": [],
   "source": [
    "std = np.std([rte.feature_importances_ for tree in rte.estimators_],axis=0)"
   ]
  },
  {
   "cell_type": "code",
   "execution_count": 24,
   "metadata": {},
   "outputs": [
    {
     "name": "stdout",
     "output_type": "stream",
     "text": [
      "[ 0.00816183  0.00509912  0.00899947  0.01049288  0.00229134  0.00919039\n",
      "  0.00960228  0.00939415  0.00901556  0.00542852  0.00790689  0.00338577\n",
      "  0.00865174  0.0093568   0.01464751  0.01220147  0.0107753   0.0129564\n",
      "  0.01457942  0.01465706  0.0141351 ]\n"
     ]
    }
   ],
   "source": [
    "print(std)"
   ]
  },
  {
   "cell_type": "code",
   "execution_count": 26,
   "metadata": {
    "collapsed": true
   },
   "outputs": [],
   "source": [
    "indices = np.argsort(importances)[::-1]"
   ]
  },
  {
   "cell_type": "code",
   "execution_count": 30,
   "metadata": {},
   "outputs": [
    {
     "name": "stdout",
     "output_type": "stream",
     "text": [
      "Feature ranking:\n",
      "1. feature 16 (0.061777)\n",
      "2. feature 14 (0.061055)\n",
      "3. feature 9 (0.058644)\n",
      "4. feature 10 (0.057452)\n",
      "5. feature 13 (0.057101)\n",
      "6. feature 8 (0.056885)\n",
      "7. feature 2 (0.055372)\n",
      "8. feature 7 (0.055361)\n",
      "9. feature 20 (0.055091)\n",
      "10. feature 18 (0.053435)\n",
      "11. feature 17 (0.052797)\n",
      "12. feature 11 (0.052499)\n",
      "13. feature 19 (0.052187)\n",
      "14. feature 15 (0.051580)\n",
      "15. feature 6 (0.050972)\n",
      "16. feature 3 (0.048533)\n",
      "17. feature 12 (0.045640)\n",
      "18. feature 0 (0.035864)\n",
      "19. feature 5 (0.020547)\n",
      "20. feature 4 (0.010436)\n",
      "21. feature 1 (0.006772)\n"
     ]
    },
    {
     "data": {
      "image/png": "[encoded data removed]",
      "text/plain": [
       "<matplotlib.figure.Figure at 0x7f460f209320>"
      ]
     },
     "metadata": {},
     "output_type": "display_data"
    }
   ],
   "source": [
    "print(\"Feature ranking:\")\n",
    "\n",
    "for f in range(dados_2016.shape[1]):\n",
    "    print(\"%d. feature %d (%f)\" % (f + 1, indices[f], importances[indices[f]]))\n",
    "\n",
    "plt.figure()\n",
    "plt.title(\"Feature importances\")\n",
    "plt.bar(range(dados_2016.shape[1]), importances[indices],\n",
    "       color=\"r\", yerr=std[indices], align=\"center\")\n",
    "plt.xticks(range(dados_2016.shape[1]), indices)\n",
    "plt.xlim([-1, dados_2016.shape[1]])\n",
    "plt.show()"
   ]
  },
  {
   "cell_type": "code",
   "execution_count": null,
   "metadata": {
    "collapsed": true
   },
   "outputs": [],
   "source": []
  }
 ],
 "metadata": {
  "kernelspec": {
   "display_name": "Python 3",
   "language": "python",
   "name": "python3"
  },
  "language_info": {
   "codemirror_mode": {
    "name": "ipython",
    "version": 3
   },
   "file_extension": ".py",
   "mimetype": "text/x-python",
   "name": "python",
   "nbconvert_exporter": "python",
   "pygments_lexer": "ipython3",
   "version": "3.6.2"
  }
 },
 "nbformat": 4,
 "nbformat_minor": 2
}
