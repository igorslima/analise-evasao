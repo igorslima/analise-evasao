{
 "cells": [
  {
   "cell_type": "code",
   "execution_count": 1,
   "metadata": {},
   "outputs": [
    {
     "name": "stdout",
     "output_type": "stream",
     "text": [
      "Importing Jupyter notebook from preprocessamento.ipynb\n"
     ]
    }
   ],
   "source": [
    "import pandas as pd\n",
    "import numpy as np\n",
    "import nbimporter\n",
    "\n",
    "\n",
    "from preprocessamento import *"
   ]
  },
  {
   "cell_type": "code",
   "execution_count": 2,
   "metadata": {},
   "outputs": [],
   "source": [
    "dados_2015 = pd.read_csv('../arquivos/2015.csv')\n",
    "dados_2016 = pd.read_csv('../arquivos/2016.csv')\n",
    "dados_2017 = pd.read_csv('../arquivos/2017.csv')\n",
    "dados_2018 = pd.read_csv('../arquivos/2018.csv')\n",
    "dados = pd.DataFrame()"
   ]
  },
  {
   "cell_type": "code",
   "execution_count": 5,
   "metadata": {},
   "outputs": [
    {
     "name": "stdout",
     "output_type": "stream",
     "text": [
      "(236, 20)\n",
      "(237, 20)\n",
      "(473, 20)\n"
     ]
    }
   ],
   "source": [
    "print(df_2015.shape)\n",
    "print(df_2016.shape)\n",
    "print(data_frame.shape)"
   ]
  },
  {
   "cell_type": "code",
   "execution_count": null,
   "metadata": {},
   "outputs": [],
   "source": [
    "for col_15 in dados_2015.columns:\n",
    "    for col_16 in dados_2016.columns:\n",
    "        if col_15 == col_16:\n",
    "            for col_17 in dados_2017.columns:\n",
    "                if col_16 == col_17:\n",
    "                    for col_18 in dados_2018.columns:\n",
    "                        if col_17 == col_18:\n",
    "                             print(col_18)"
   ]
  },
  {
   "cell_type": "code",
   "execution_count": null,
   "metadata": {},
   "outputs": [],
   "source": [
    "# praticamente todos estão solteiros\n",
    "print(pd.concat([dados_2015['Qual o seu estado civil?'], dados_2016['Qual o seu estado civil?'], dados_2017['Qual o seu estado civil?'], dados_2018['Qual o seu estado civil?']], ignore_index=True).value_counts())\n",
    "dados['estado_civil'] = pd.concat([dados_2015['Qual o seu estado civil?'], dados_2016['Qual o seu estado civil?'], dados_2017['Qual o seu estado civil?'], dados_2018['Qual o seu estado civil?']], ignore_index=True)"
   ]
  },
  {
   "cell_type": "code",
   "execution_count": null,
   "metadata": {},
   "outputs": [],
   "source": [
    "# praticamente todos não tem filhos\n",
    "print(pd.concat([dados_2015['Tem filhos?'], dados_2016['Tem filhos?'], dados_2017['Tem filhos?'], dados_2018['Tem filhos?']], ignore_index=True).value_counts())\n",
    "dados['tem_filhos'] = pd.concat([dados_2015['Tem filhos?'], dados_2016['Tem filhos?'], dados_2017['Tem filhos?'], dados_2018['Tem filhos?']], ignore_index=True)"
   ]
  },
  {
   "cell_type": "code",
   "execution_count": null,
   "metadata": {},
   "outputs": [],
   "source": [
    "# transformando dados\n",
    "amigos = ['colegas da faculdade', 'colegas','Outros alunos do campus.', 'Alguns colegas da universidade', 'pensão','Amigo', 'Outro universitario', 'Outros Estudantes']\n",
    "outros = ['com os donos da casa, mas é cada um por si', 'Pensão', 'Deus', 'Familia da namorada']\n",
    "parentes = ['Avó', 'Vó', 'irmão e amiga']\n",
    "familia = ['Família Nuclear (pai e/ou mãe)','Com sua esposa/marido ou companheiro/a', 'Com sua esposo/a ou companheiro/a']\n",
    "\n",
    "for row in dados_2015['Com quem você está morando atualmente?']:\n",
    "    if row in familia:\n",
    "        dados_2015.at[dados_2015['Com quem você está morando atualmente?'] == row,'Com quem você está morando atualmente?'] = 'Família'\n",
    "\n",
    "for row in dados_2016['Com quem você está morando atualmente?']:\n",
    "    if row == 'Família':\n",
    "        dados_2016.at[dados_2016['Com quem você está morando atualmente?'] == row,'Com quem você está morando atualmente?'] = 'Parentes' \n",
    "    if row == 'Família (pai, mãe, irmãos...)':\n",
    "        dados_2016.at[dados_2016['Com quem você está morando atualmente?'] == row,'Com quem você está morando atualmente?'] = 'Família'\n",
    "\n",
    "for row in dados_2017['Com quem você está morando atualmente?']:\n",
    "    if row in amigos:\n",
    "        dados_2017.at[dados_2017['Com quem você está morando atualmente?'] == row,'Com quem você está morando atualmente?'] = 'Amigos'\n",
    "    if row in outros:\n",
    "        dados_2017.at[dados_2017['Com quem você está morando atualmente?'] == row,'Com quem você está morando atualmente?'] = 'Outros'\n",
    "    if row in parentes:\n",
    "        dados_2017.at[dados_2017['Com quem você está morando atualmente?'] == row,'Com quem você está morando atualmente?'] = 'Parentes'\n",
    "    if row in familia:\n",
    "        dados_2017.at[dados_2017['Com quem você está morando atualmente?'] == row,'Com quem você está morando atualmente?'] = 'Família'\n",
    "\n",
    "for row in dados_2018['Com quem você está morando atualmente?']:\n",
    "    if row == 'Família Nuclear (pai e/ou mãe)':\n",
    "        dados_2018.at[dados_2018['Com quem você está morando atualmente?'] == row,'Com quem você está morando atualmente?'] = 'Família'\n",
    "    if row == 'Com sua esposo/a ou companheiro/a':\n",
    "        dados_2018.at[dados_2018['Com quem você está morando atualmente?'] == row,'Com quem você está morando atualmente?'] = 'Com sua esposa/marido ou companheiro/a'"
   ]
  },
  {
   "cell_type": "code",
   "execution_count": null,
   "metadata": {},
   "outputs": [],
   "source": [
    "print(pd.concat([dados_2015['Com quem você está morando atualmente?'], dados_2016['Com quem você está morando atualmente?'], dados_2017['Com quem você está morando atualmente?'], dados_2018['Com quem você está morando atualmente?']], ignore_index=True).value_counts())\n",
    "dados['morando_atualmente'] = pd.concat([dados_2015['Com quem você está morando atualmente?'], dados_2016['Com quem você está morando atualmente?'], dados_2017['Com quem você está morando atualmente?'], dados_2018['Com quem você está morando atualmente?']], ignore_index=True)"
   ]
  },
  {
   "cell_type": "code",
   "execution_count": null,
   "metadata": {},
   "outputs": [],
   "source": [
    "misto = ['Bicicleta e Transporte Alternativo', 'moto, onibus', 'Misto de automotivo e ônibus universitário','Transporte alternativo/Ônibus universitário', 'Venho de transporte alternativo e volto o ônibus universitário de minha cidade.',]\n",
    "alternativo = ['onibus de linha', 'Transporte alternativo (taxi, mototaxi, etc)','Transporte automotivo particular (carro, motocicleta, etc)' ,'Transporte automotivo particular (carro, motocicleta, etc.)', 'Transporte alternativo (taxi, mototaxi, ônibus de linha, etc)']\n",
    "onibus_universitario = ['Ônibus local Prefeitura de Quixeramobim']\n",
    "outros = ['Venho com um amigo de moto', 'pau de arrara', 'Moto']\n",
    "onibus = ['trasporte publico', 'Ônibus local Prefeitura de Quixeramobim', 'ônibus público']\n",
    "particular = ['Transporte automotivo particular (carro, motocicleta, etc)']"
   ]
  },
  {
   "cell_type": "code",
   "execution_count": null,
   "metadata": {},
   "outputs": [],
   "source": [
    "for row in dados_2015['Qual meio de transporte você utiliza para chegar à universidade?']:\n",
    "    if row in misto:\n",
    "        dados_2015.at[dados_2015['Qual meio de transporte você utiliza para chegar à universidade?'] == row, 'Qual meio de transporte você utiliza para chegar à universidade?'] = \"Misto\"\n",
    "    if row in alternativo:\n",
    "        dados_2015.at[dados_2015['Qual meio de transporte você utiliza para chegar à universidade?'] == row, 'Qual meio de transporte você utiliza para chegar à universidade?'] = \"Transporte alternativo (táxi, mototáxi, ônibus de linha, etc.)\"\n",
    "    if row in onibus_universitario:\n",
    "        dados_2015.at[dados_2015['Qual meio de transporte você utiliza para chegar à universidade?'] == row, 'Qual meio de transporte você utiliza para chegar à universidade?'] = \"Ônibus universitário\"\n",
    "    if row in outros:\n",
    "        dados_2015.at[dados_2015['Qual meio de transporte você utiliza para chegar à universidade?'] == row, 'Qual meio de transporte você utiliza para chegar à universidade?'] = \"Outros\"\n",
    "    if row in onibus:\n",
    "        dados_2015.at[dados_2015['Qual meio de transporte você utiliza para chegar à universidade?'] == row, 'Qual meio de transporte você utiliza para chegar à universidade?'] = \"Ônibus universitário\"\n",
    "\n",
    "for row in dados_2016['Qual meio de transporte você utiliza para chegar à universidade?']:\n",
    "    if row in misto:\n",
    "        dados_2016.at[dados_2016['Qual meio de transporte você utiliza para chegar à universidade?'] == row, 'Qual meio de transporte você utiliza para chegar à universidade?'] = \"Misto\"\n",
    "    if row in alternativo:\n",
    "        dados_2016.at[dados_2016['Qual meio de transporte você utiliza para chegar à universidade?'] == row, 'Qual meio de transporte você utiliza para chegar à universidade?'] = \"Transporte alternativo (táxi, mototáxi, ônibus de linha, etc.)\"\n",
    "    if row in onibus_universitario:\n",
    "        dados_2016.at[dados_2016['Qual meio de transporte você utiliza para chegar à universidade?'] == row, 'Qual meio de transporte você utiliza para chegar à universidade?'] = \"Ônibus universitário\"\n",
    "    if row in outros:\n",
    "        dados_2016.at[dados_2016['Qual meio de transporte você utiliza para chegar à universidade?'] == row, 'Qual meio de transporte você utiliza para chegar à universidade?'] = \"Outros\"\n",
    "    if row in onibus:\n",
    "        dados_2016.at[dados_2016['Qual meio de transporte você utiliza para chegar à universidade?'] == row, 'Qual meio de transporte você utiliza para chegar à universidade?'] = \"Ônibus universitário\"\n",
    "\n",
    "for row in dados_2017['Qual meio de transporte você utiliza para chegar à universidade?']:\n",
    "    if row in misto:\n",
    "        dados_2017.at[dados_2017['Qual meio de transporte você utiliza para chegar à universidade?'] == row, 'Qual meio de transporte você utiliza para chegar à universidade?'] = \"Misto\"\n",
    "    if row in alternativo:\n",
    "        dados_2017.at[dados_2017['Qual meio de transporte você utiliza para chegar à universidade?'] == row, 'Qual meio de transporte você utiliza para chegar à universidade?'] = \"Transporte alternativo (táxi, mototáxi, ônibus de linha, etc.)\"\n",
    "    if row in onibus_universitario:\n",
    "        dados_2017.at[dados_2017['Qual meio de transporte você utiliza para chegar à universidade?'] == row, 'Qual meio de transporte você utiliza para chegar à universidade?'] = \"Ônibus universitário\"\n",
    "    if row in outros:\n",
    "        dados_2017.at[dados_2017['Qual meio de transporte você utiliza para chegar à universidade?'] == row, 'Qual meio de transporte você utiliza para chegar à universidade?'] = \"Outros\"\n",
    "    if row in onibus:\n",
    "        dados_2017.at[dados_2017['Qual meio de transporte você utiliza para chegar à universidade?'] == row, 'Qual meio de transporte você utiliza para chegar à universidade?'] = \"Ônibus universitário\"\n",
    "\n",
    "for row in dados_2018['Qual meio de transporte você utiliza para chegar à universidade?']:\n",
    "    if row in misto:\n",
    "        dados_2018.at[dados_2018['Qual meio de transporte você utiliza para chegar à universidade?'] == row, 'Qual meio de transporte você utiliza para chegar à universidade?'] = \"Misto\"\n",
    "    if row in alternativo:\n",
    "        dados_2018.at[dados_2018['Qual meio de transporte você utiliza para chegar à universidade?'] == row, 'Qual meio de transporte você utiliza para chegar à universidade?'] = \"Transporte alternativo (táxi, mototáxi, ônibus de linha, etc.)\"\n",
    "    if row in onibus_universitario:\n",
    "        dados_2018.at[dados_2018['Qual meio de transporte você utiliza para chegar à universidade?'] == row, 'Qual meio de transporte você utiliza para chegar à universidade?'] = \"Ônibus universitário\"\n",
    "    if row in outros:\n",
    "        dados_2018.at[dados_2018['Qual meio de transporte você utiliza para chegar à universidade?'] == row, 'Qual meio de transporte você utiliza para chegar à universidade?'] = \"Outros\"\n",
    "    if row in onibus:\n",
    "        dados_2018.at[dados_2018['Qual meio de transporte você utiliza para chegar à universidade?'] == row, 'Qual meio de transporte você utiliza para chegar à universidade?'] = \"Ônibus universitário\""
   ]
  },
  {
   "cell_type": "code",
   "execution_count": null,
   "metadata": {},
   "outputs": [],
   "source": [
    "print(pd.concat([dados_2015['Qual meio de transporte você utiliza para chegar à universidade?'], dados_2016['Qual meio de transporte você utiliza para chegar à universidade?'], dados_2017['Qual meio de transporte você utiliza para chegar à universidade?'], dados_2018['Qual meio de transporte você utiliza para chegar à universidade?']], ignore_index=True).value_counts())\n",
    "dados['meio_transporte'] = pd.concat([dados_2015['Qual meio de transporte você utiliza para chegar à universidade?'], dados_2016['Qual meio de transporte você utiliza para chegar à universidade?'], dados_2017['Qual meio de transporte você utiliza para chegar à universidade?'], dados_2018['Qual meio de transporte você utiliza para chegar à universidade?']], ignore_index=True)"
   ]
  },
  {
   "cell_type": "code",
   "execution_count": null,
   "metadata": {},
   "outputs": [],
   "source": [
    "#print(pd.concat([dados_2015['Qual sua forma de ingresso na UFC Campus Quixadá?'], dados_2016['Qual sua forma de ingresso na UFC Campus Quixadá?'], dados_2017['Qual sua forma de ingresso na UFC Campus Quixadá?'], dados_2018['Qual sua forma de ingresso na UFC Campus Quixadá?']], ignore_index=True).value_counts())\n",
    "dados['forma_ingresso'] = pd.concat([dados_2015['Qual sua forma de ingresso na UFC Campus Quixadá?'], dados_2016['Qual sua forma de ingresso na UFC Campus Quixadá?'], dados_2017['Qual sua forma de ingresso na UFC Campus Quixadá?'], dados_2018['Qual sua forma de ingresso na UFC Campus Quixadá?']], ignore_index=True)"
   ]
  },
  {
   "cell_type": "code",
   "execution_count": null,
   "metadata": {},
   "outputs": [],
   "source": [
    "comuns = ['Obtive conhecimento através de amigos e familiares.', 'No site da universidade.', 'Soube no momento da minha inscrição no SISU.', 'Em sites especializados', 'Escola e cursinhos.', 'Outros.','Mídias e redes sociais.']\n",
    "adicionar_ponto = ['Escola e cursinhos', 'Mídias e redes sociais', 'Outros']"
   ]
  },
  {
   "cell_type": "code",
   "execution_count": null,
   "metadata": {},
   "outputs": [],
   "source": [
    "dados['onde_conheceu_curso'] = pd.concat([dados_2015['Como você tomou conhecimento do curso de sua escolha aqui na UFC de Quixadá?'], dados_2016['Como você tomou conhecimento do curso de sua escolha aqui na UFC de Quixadá?'], dados_2017['Como você tomou conhecimento do curso de sua escolha aqui na UFC de Quixadá?'], dados_2018['Como você tomou conhecimento do curso de sua escolha aqui na UFC de Quixadá?']], ignore_index=True)"
   ]
  },
  {
   "cell_type": "code",
   "execution_count": null,
   "metadata": {},
   "outputs": [],
   "source": [
    "for row in dados['onde_conheceu_curso']:\n",
    "    if row in adicionar_ponto:\n",
    "        dados.at[dados['onde_conheceu_curso'] == row, 'onde_conheceu_curso'] = row + '.'\n",
    "    elif row not in comuns:\n",
    "        dados.at[dados['onde_conheceu_curso'] == row, 'onde_conheceu_curso'] = 'Outros.'\n",
    "        "
   ]
  },
  {
   "cell_type": "code",
   "execution_count": null,
   "metadata": {},
   "outputs": [],
   "source": [
    "dados['onde_conheceu_curso'].value_counts()"
   ]
  },
  {
   "cell_type": "code",
   "execution_count": null,
   "metadata": {},
   "outputs": [],
   "source": [
    "nao_participa = ['Não participo de nenhuma atividade.', 'Não participo de nenhuma atividade., Igreja ou grupo religioso.']\n",
    "esporte = ['Clube recreativo ou associação esportiva.']\n",
    "dois_ou_mais = ['Igreja ou grupo religioso., Grupo cultural (dança, teatro, música, coral, etc).', 'Igreja ou grupo religioso., Clube recreativo ou associação esportiva.',\n",
    "        'Clube recreativo ou associação esportiva., Grupo cultural (dança, teatro, música, coral, etc)', \n",
    "        'Igreja ou grupo religioso., Clube recreativo ou associação esportiva., Grupo cultural (dança, teatro, música, coral, etc).',\n",
    "        'Grupo de bairro ou associação comunitária., Igreja ou grupo religioso., Grupo cultural (dança, teatro, música, coral, etc)',\n",
    "        'Grupo de bairro ou associação comunitária., Igreja ou grupo religioso., Partido político ou movimento estudantil., ONG ou movimento social.',\n",
    "        'Igreja ou grupo religioso., ONG ou movimento social.','ONG ou movimento social., Clube recreativo ou associação esportiva., Grupo cultural (dança, teatro, música, coral, etc).'\n",
    "        'Grupo cultural (dança, teatro, música, coral, etc)., Grupo de RPG',]"
   ]
  },
  {
   "cell_type": "code",
   "execution_count": null,
   "metadata": {},
   "outputs": [],
   "source": [
    "#dados['fatores_conhecer_curso'] = pd.concat([dados_2015['Como você tomou conhecimento do curso de sua escolha aqui na UFC de Quixadá?'], dados_2016['Como você tomou conhecimento do curso de sua escolha aqui na UFC de Quixadá?'], dados_2017['Como você tomou conhecimento do curso de sua escolha aqui na UFC de Quixadá?'], dados_2018['Como você tomou conhecimento do curso de sua escolha aqui na UFC de Quixadá?']], ignore_index=True)"
   ]
  },
  {
   "cell_type": "code",
   "execution_count": null,
   "metadata": {},
   "outputs": [],
   "source": [
    "dados['expectativas_conclusao_curso'] = pd.concat([dados_2015['Quais suas expectativas com a conclusão de seu curso?'], dados_2016['Quais suas expectativas com a conclusão de seu curso?'], dados_2017['Quais suas expectativas com a conclusão de seu curso?'], dados_2018['Quais suas expectativas com a conclusão de seu curso?']], ignore_index=True)"
   ]
  },
  {
   "cell_type": "code",
   "execution_count": null,
   "metadata": {},
   "outputs": [],
   "source": [
    "normais = ['Gostaria de conseguir um bom emprego.', 'Gostaria de seguir a vida acadêmica (mestrado, doutorado, etc).',\n",
    "          'Gostaria de prestar um concurso e trabalhar no setor público.', 'Gostaria de ganhar dinheiro com o meu próprio negócio.',\n",
    "          'Outros.']\n",
    "\n",
    "for row in dados['expectativas_conclusao_curso']:\n",
    "    if row not in normais:\n",
    "        dados.at[dados['expectativas_conclusao_curso'] == row, 'expectativas_conclusao_curso'] = 'Outros.'\n",
    "\n",
    "dados['expectativas_conclusao_curso'].value_counts()\n"
   ]
  },
  {
   "cell_type": "code",
   "execution_count": null,
   "metadata": {},
   "outputs": [],
   "source": [
    "dados['curso'] = pd.concat([dados_2015['Curso em que você está matriculado:'], dados_2016['Curso em que você está matriculado:'], dados_2017['Curso em que você está matriculado:'], dados_2018['Curso em que você está matriculado:']], ignore_index=True)"
   ]
  },
  {
   "cell_type": "code",
   "execution_count": null,
   "metadata": {},
   "outputs": [],
   "source": [
    "dados['curso'].value_counts()"
   ]
  },
  {
   "cell_type": "code",
   "execution_count": null,
   "metadata": {},
   "outputs": [],
   "source": [
    "len(dados_2015.columns)"
   ]
  },
  {
   "cell_type": "code",
   "execution_count": null,
   "metadata": {},
   "outputs": [],
   "source": [
    "dados.columns"
   ]
  },
  {
   "cell_type": "code",
   "execution_count": null,
   "metadata": {},
   "outputs": [],
   "source": [
    "dados_2017.columns"
   ]
  },
  {
   "cell_type": "code",
   "execution_count": null,
   "metadata": {},
   "outputs": [],
   "source": [
    "dados_2015['Tomando como base seu local de moradia atual, qual a distância de onde reside para a universidade?'].head(5)"
   ]
  },
  {
   "cell_type": "code",
   "execution_count": null,
   "metadata": {},
   "outputs": [],
   "source": []
  },
  {
   "cell_type": "code",
   "execution_count": null,
   "metadata": {},
   "outputs": [],
   "source": [
    "dados_2015.columns"
   ]
  },
  {
   "cell_type": "code",
   "execution_count": null,
   "metadata": {
    "scrolled": true
   },
   "outputs": [],
   "source": [
    "for dado in df_2016.columns:\n",
    "    if dado not in df_2017.columns:\n",
    "        print(dado)"
   ]
  }
 ],
 "metadata": {
  "kernelspec": {
   "display_name": "Python 3",
   "language": "python",
   "name": "python3"
  },
  "language_info": {
   "codemirror_mode": {
    "name": "ipython",
    "version": 3
   },
   "file_extension": ".py",
   "mimetype": "text/x-python",
   "name": "python",
   "nbconvert_exporter": "python",
   "pygments_lexer": "ipython3",
   "version": "3.6.5"
  }
 },
 "nbformat": 4,
 "nbformat_minor": 2
}
